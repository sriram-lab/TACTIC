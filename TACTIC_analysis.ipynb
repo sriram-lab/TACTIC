{
 "cells": [
  {
   "cell_type": "markdown",
   "metadata": {},
   "source": [
    "# TACTIC Analyses\n",
    "This notebook contains the code for all analyses conducted in the TACTIC manuscript."
   ]
  },
  {
   "cell_type": "code",
   "execution_count": 1,
   "metadata": {},
   "outputs": [],
   "source": [
    "# Restore point (runtime: ~1 minute)\n",
    "import pickle\n",
    "from urllib.request import urlopen\n",
    "link = 'https://www.dropbox.com/scl/fi/38ewb000ihqcg6wev41g3/TACTIC_data_master.pkl?rlkey=zvxnt71ejj5ucexgpr1plmyvg&dl=1'\n",
    "ecoli, mtb, master, out = pickle.load(urlopen(link))"
   ]
  },
  {
   "cell_type": "markdown",
   "metadata": {},
   "source": [
    "## 0. Set Up Environment\n",
    "Import dependencies and load datasets."
   ]
  },
  {
   "cell_type": "markdown",
   "metadata": {},
   "source": [
    "\n",
    "### 0.1 Import dependencies"
   ]
  },
  {
   "cell_type": "code",
   "execution_count": 2,
   "metadata": {},
   "outputs": [],
   "source": [
    "# Import dependencies\n",
    "import cv2\n",
    "import math\n",
    "import pickle\n",
    "import numpy as np\n",
    "import pandas as pd\n",
    "from tqdm import tqdm\n",
    "from scipy import sparse\n",
    "from scipy.stats import spearmanr, ttest_ind, hypergeom, chi2_contingency\n",
    "from sklearn.ensemble import RandomForestRegressor\n",
    "from itertools import compress, combinations, chain\n",
    "from statsmodels.stats.multitest import multipletests\n",
    "import seaborn as sns\n",
    "import matplotlib.pyplot as plt\n",
    "\n",
    "# Import relevant function from INDIGOpy\n",
    "from indigopy.core import featurize, classify"
   ]
  },
  {
   "cell_type": "markdown",
   "metadata": {},
   "source": [
    "### 0.2 Load datasets"
   ]
  },
  {
   "cell_type": "code",
   "execution_count": null,
   "metadata": {},
   "outputs": [],
   "source": [
    "# Load datasets\n",
    "omics_data  = {\n",
    "    'ecoli': pd.read_excel('./data/omics_data.xlsx', sheet_name='ecoli_chemogenomics', engine='openpyxl'), \n",
    "    'mtb': pd.read_excel('./data/omics_data.xlsx', sheet_name='mtb_transcriptomics', engine='openpyxl')\n",
    "}\n",
    "ixn_data    = pd.read_excel('./data/ixn_data.xlsx', sheet_name=None, engine='openpyxl')\n",
    "orthology   = {\n",
    "    'ecoli': pd.read_csv('./data/OrtholugeDB/Ec-MG1655_pathogens.txt', sep='\\t'), \n",
    "    'mtb': pd.read_csv('./data/OrtholugeDB/Mtb-H37Rv_pathogens.txt', sep='\\t')\n",
    "}\n",
    "\n",
    "# Define strain-specific orthology data\n",
    "strains         = sorted(set(ixn_data['data']['Strain']))\n",
    "strains         = strains + ['M. abscessus', 'M. smegmatis']\n",
    "jx              = [1, 3] + [x for x in range(4, orthology['ecoli'].shape[1], 3)]\n",
    "df1, df2        = orthology['ecoli'].iloc[:, jx], orthology['mtb'].iloc[:, jx]\n",
    "df1.columns     = [s.split(' - ')[0] if 'comparison' in s else s for s in df1.columns]\n",
    "df2.columns     = [s.split(' - ')[0] if 'comparison' in s else s for s in df2.columns]\n",
    "df2.iloc[:, 0]  = [s.replace('RVBD_', 'Rv') for s in df2.iloc[:, 0]]\n",
    "emap, mmap      = dict(), dict()\n",
    "for strain in strains: \n",
    "    # E. coli strains\n",
    "    if strain.endswith('iAi1'): \n",
    "        s1 = [s for s in df1.columns if s.endswith('IAI1')][0]\n",
    "        s2 = [s for s in df2.columns if s.endswith('IAI1')][0]\n",
    "    elif strain.startswith('E. coli'): \n",
    "        s1 = [s for s in df1.columns if 'MG1655' in s][0]\n",
    "        s2 = [s for s in df2.columns if 'MG1655' in s][0]\n",
    "    # M. tb strains\n",
    "    elif 'tuberculosis' in strain: \n",
    "        s1 = [s for s in df1.columns if 'H37Rv' in s][0]\n",
    "        s2 = [s for s in df2.columns if 'H37Rv' in s][0]\n",
    "    # TACTIC strains\n",
    "    elif 'aureus' in strain: \n",
    "        s1 = [s for s in df1.columns if 'aureus' in s][0]\n",
    "        s2 = [s for s in df2.columns if 'aureus' in s][0]\n",
    "    elif 'baumannii' in strain: \n",
    "        s1 = [s for s in df1.columns if 'baumannii' in s][0]\n",
    "        s2 = [s for s in df2.columns if 'baumannii' in s][0]\n",
    "    elif strain.endswith('PAO1'): \n",
    "        s1 = [s for s in df1.columns if s.endswith('PAO1')][0]\n",
    "        s2 = [s for s in df2.columns if s.endswith('PAO1')][0]\n",
    "    elif strain.endswith('PA14'): \n",
    "        s1 = [s for s in df1.columns if s.endswith('PA14')][0]\n",
    "        s2 = [s for s in df2.columns if s.endswith('PA14')][0]\n",
    "    elif strain.endswith('14028s'): \n",
    "        s1 = [s for s in df1.columns if s.endswith('14028S')][0]\n",
    "        s2 = [s for s in df2.columns if s.endswith('14028S')][0]\n",
    "    elif strain.endswith('LT2'): \n",
    "        s1 = [s for s in df1.columns if s.endswith('LT2')][0]\n",
    "        s2 = [s for s in df2.columns if s.endswith('LT2')][0]\n",
    "    # NTM strains\n",
    "    elif 'abscessus' in strain: \n",
    "        s1 = [s for s in df1.columns if 'abscessus' in s][0]\n",
    "        s2 = [s for s in df2.columns if 'abscessus' in s][0]\n",
    "    elif 'smegmatis' in strain: \n",
    "        s1 = [s for s in df1.columns if 'smegmatis' in s][0]\n",
    "        s2 = [s for s in df2.columns if 'smegmatis' in s][0]\n",
    "    emap[strain] = list(compress(df1.iloc[:, 0], df1[s1] != '0'))\n",
    "    mmap[strain] = list(compress(df2.iloc[:, 0], df2[s2] != '0'))"
   ]
  },
  {
   "cell_type": "code",
   "execution_count": null,
   "metadata": {},
   "outputs": [],
   "source": [
    "# Checkpoint\n",
    "with open('./TACTIC_data.pkl', 'wb') as f: \n",
    "    pickle.dump([ecoli, mtb, master, out], f)"
   ]
  },
  {
   "cell_type": "markdown",
   "metadata": {},
   "source": [
    "## 1. Define Inputs and Outputs\n",
    "Define main input (*ecoli*, *mtb*, *master*) and output (*out*) variables."
   ]
  },
  {
   "cell_type": "markdown",
   "metadata": {},
   "source": [
    "### 1.1 Instantiate variables (runtime: ~2 minutes)"
   ]
  },
  {
   "cell_type": "code",
   "execution_count": null,
   "metadata": {},
   "outputs": [
    {
     "name": "stderr",
     "output_type": "stream",
     "text": [
      "c:\\Users\\carol\\AppData\\Local\\Programs\\Python\\Python310\\lib\\site-packages\\indigopy\\core.py:351: UserWarning: Not all feature names are unique. Enforcing unique entries for output\n",
      "  warn('Not all feature names are unique. Enforcing unique entries for output')\n",
      "c:\\Users\\carol\\AppData\\Local\\Programs\\Python\\Python310\\lib\\site-packages\\indigopy\\core.py:406: UserWarning: Drug profile information missing for 413 interactions\n",
      "  warn('Drug profile information missing for {} interactions'.format(len(interactions) - len(ixn_list)))\n",
      "Defining INDIGO features: 100%|██████████| 2965/2965 [00:11<00:00, 264.48it/s]\n",
      "Mapping orthologous genes: 100%|██████████| 12/12 [00:58<00:00,  4.91s/it]\n",
      "Defining INDIGO features: 100%|██████████| 2965/2965 [00:15<00:00, 192.02it/s]\n",
      "Mapping orthologous genes: 100%|██████████| 12/12 [00:33<00:00,  2.79s/it]\n"
     ]
    }
   ],
   "source": [
    "# I/O variables\n",
    "ecoli, mtb, out = dict(), dict(), dict()\n",
    "\n",
    "# Store orthology info\n",
    "ecoli['map'], mtb['map'] = emap, mmap\n",
    "\n",
    "# E. coli chemogenomic-based data\n",
    "ecoli['key']    = list(zip(ixn_data['drug_key']['Code'], ixn_data['drug_key']['Chemogenomic_label']))\n",
    "ecoli['key']    = [key for key in ecoli['key'] if not pd.isna(key[1])]\n",
    "ecoli['omics']  = omics_data['ecoli']\n",
    "profiles        = ecoli['omics'].iloc[:, 1:].to_dict('list')\n",
    "feature_names   = ecoli['omics']['Gene'].tolist()\n",
    "interactions    = [list(s.split(', ')) for s in ixn_data['data']['Interaction']]\n",
    "feature_data    = featurize(interactions, profiles, feature_names=feature_names, key=ecoli['key'], \n",
    "                            strains=ixn_data['data']['Strain'].tolist(), orthology_map=ecoli['map'])\n",
    "ecoli['idx']    = feature_data['idx']\n",
    "ecoli['df']     = feature_data['feature_df']\n",
    "\n",
    "# M. tb transcriptomic-based data\n",
    "mtb['key']      = list(zip(ixn_data['drug_key']['Code'], ixn_data['drug_key']['Transcriptomic_label']))\n",
    "mtb['omics']    = omics_data['mtb']\n",
    "profiles        = mtb['omics'].iloc[:, 1:].to_dict('list')\n",
    "feature_names   = mtb['omics']['Gene'].tolist()\n",
    "interactions    = [list(s.split(', ')) for s in ixn_data['data']['Interaction']]\n",
    "feature_data    = featurize(interactions, profiles, feature_names=feature_names, key=mtb['key'], \n",
    "                            strains=ixn_data['data']['Strain'].tolist(), orthology_map=mtb['map'])\n",
    "mtb['idx']      = feature_data['idx']\n",
    "mtb['df']       = feature_data['feature_df']"
   ]
  },
  {
   "cell_type": "markdown",
   "metadata": {},
   "source": [
    "### 1.2 Define feature data"
   ]
  },
  {
   "cell_type": "code",
   "execution_count": 4,
   "metadata": {},
   "outputs": [],
   "source": [
    "# Define master data\n",
    "ecoli_genes     = [g for g in ecoli['omics']['Gene'].tolist() if g not in ecoli['map']['M. tuberculosis H37Rv']]\n",
    "idx             = [any(i.split('_')[0].endswith(gene) for gene in ecoli_genes) for i in list(ecoli['df'].index)]\n",
    "master          = {'data': ixn_data['data'], 'df': pd.concat([ecoli['df'].loc[idx], mtb['df']])}\n",
    "\n",
    "# Define ML inputs\n",
    "ecoli['X']      = sparse.csr_matrix(ecoli['df'].to_numpy().transpose())\n",
    "mtb['X']        = sparse.csr_matrix(mtb['df'].to_numpy().transpose())\n",
    "master['X']     = sparse.csr_matrix(master['df'].to_numpy().transpose())\n",
    "\n",
    "# Define output data fields\n",
    "out['strains']  = sorted(list(set(master['data']['Strain'])))\n",
    "out['species']  = sorted(list(set([' '.join(s.split(' ')[0:2]) for s in master['data']['Strain'].tolist()])))\n",
    "out['drugs']    = sorted(list(set(chain.from_iterable([list(combo.split(', ')) for combo in master['data']['Interaction']]))))\n",
    "out['model']    = dict()"
   ]
  },
  {
   "cell_type": "code",
   "execution_count": null,
   "metadata": {},
   "outputs": [],
   "source": [
    "# Checkpoint\n",
    "with open('./TACTIC_data.pkl', 'wb') as f: \n",
    "    pickle.dump([ecoli, mtb, master, out], f)"
   ]
  },
  {
   "cell_type": "markdown",
   "metadata": {},
   "source": [
    "## 2. TACTIC Benchmarking\n",
    "\n",
    "TACTIC benchmarking against [INDIGO](https://doi.org/10.15252/msb.20156777) and [INDIGO-Mtb](https://doi.org/10.1128/mbio.02627-19) in predicting drug interaction outcomes for *A. baumannii*, *E. coli*, *P. aeruginosa*, *S.* Typhimurium, *S. aureus*, and *M. tuberculosis* (Mtb).  \n",
    "\n",
    "- Used **holdout validation**: for each species-specific data subset, the data for a strain of interest is held out for testing  "
   ]
  },
  {
   "cell_type": "markdown",
   "metadata": {},
   "source": [
    "### 2.1 I/O"
   ]
  },
  {
   "cell_type": "code",
   "execution_count": 12,
   "metadata": {},
   "outputs": [],
   "source": [
    "# Define I/O variables\n",
    "idx             = master['data']['Set'] == 'TACTIC'\n",
    "data            = master['data'].loc[idx]\n",
    "strains         = sorted(list(set(data['Strain'])))\n",
    "X1, X2, X       = ecoli['X'][idx], mtb['X'][idx], master['X'][idx]\n",
    "out['bench']    = dict()"
   ]
  },
  {
   "cell_type": "markdown",
   "metadata": {},
   "source": [
    "### 2.2 Model training (runtime: ~1 minute)"
   ]
  },
  {
   "cell_type": "code",
   "execution_count": 13,
   "metadata": {},
   "outputs": [],
   "source": [
    "# Define INDIGO (E. coli) model\n",
    "idx1    = master['data']['Set'] == 'ecoli'\n",
    "data1   = master['data'].loc[idx1]\n",
    "X1tr    = ecoli['X'][idx1]\n",
    "m1      = RandomForestRegressor()\n",
    "m1.fit(X1tr, data1['Score'].tolist())\n",
    "out['model']['EC'] = m1\n",
    "\n",
    "# Define INDIGO-Mtb (M. tb) model\n",
    "idx2    = master['data']['Set'] == 'mtb'\n",
    "data2   = master['data'].loc[idx2]\n",
    "X2tr    = mtb['X'][idx2]\n",
    "m2      = RandomForestRegressor()\n",
    "m2.fit(X2tr, data2['Score'].tolist())\n",
    "out['model']['TB'] = m2"
   ]
  },
  {
   "cell_type": "markdown",
   "metadata": {},
   "source": [
    "### 2.3 Model evaluation (runtime: ~3.5 hours)"
   ]
  },
  {
   "cell_type": "code",
   "execution_count": 14,
   "metadata": {},
   "outputs": [],
   "source": [
    "# Determine predictions for INDIGO (E. coli) model\n",
    "out['bench']['EC'] = out['model']['EC'].predict(X1)\n",
    "\n",
    "# Determine predictions for INDIGO-Mtb (M. tb) model\n",
    "out['bench']['TB'] = out['model']['TB'].predict(X2)"
   ]
  },
  {
   "cell_type": "code",
   "execution_count": 21,
   "metadata": {},
   "outputs": [
    {
     "name": "stderr",
     "output_type": "stream",
     "text": [
      "Evaluating TACTIC vs. INDIGO::   0%|          | 0/12 [00:00<?, ?it/s]"
     ]
    },
    {
     "name": "stdout",
     "output_type": "stream",
     "text": [
      "\tStrain: A. baumannii ATCC 17978, N = 45 (1.8%)\n"
     ]
    },
    {
     "name": "stderr",
     "output_type": "stream",
     "text": [
      "Evaluating TACTIC vs. INDIGO::   8%|▊         | 1/12 [18:50<3:27:11, 1130.13s/it]"
     ]
    },
    {
     "name": "stdout",
     "output_type": "stream",
     "text": [
      "\t\tHoldout results (INDIGO):\tR = 0.28, p = 0.0611\n",
      "\t\tHoldout results (INDIGO-Mtb):\tR = -0.01, p = 0.952\n",
      "\t\tHoldout results (TACTIC):\tR = 0.56, p = 7.51e-05\n",
      "\tStrain: E. coli BW25113, N = 473 (18.4%)\n"
     ]
    },
    {
     "name": "stderr",
     "output_type": "stream",
     "text": [
      "Evaluating TACTIC vs. INDIGO::  17%|█▋        | 2/12 [34:45<2:51:13, 1027.40s/it]"
     ]
    },
    {
     "name": "stdout",
     "output_type": "stream",
     "text": [
      "\t\tHoldout results (INDIGO):\tR = 0.24, p = 1.53e-07\n",
      "\t\tHoldout results (INDIGO-Mtb):\tR = -0.01, p = 0.88\n",
      "\t\tHoldout results (TACTIC):\tR = 0.51, p = 5.19e-32\n",
      "\tStrain: E. coli MC4100, N = 98 (3.8%)\n"
     ]
    },
    {
     "name": "stderr",
     "output_type": "stream",
     "text": [
      "Evaluating TACTIC vs. INDIGO::  25%|██▌       | 3/12 [54:18<2:44:03, 1093.67s/it]"
     ]
    },
    {
     "name": "stdout",
     "output_type": "stream",
     "text": [
      "\t\tHoldout results (INDIGO):\tR = 0.28, p = 0.00508\n",
      "\t\tHoldout results (INDIGO-Mtb):\tR = -0.03, p = 0.79\n",
      "\t\tHoldout results (TACTIC):\tR = 0.28, p = 0.00449\n",
      "\tStrain: E. coli MG1655, N = 452 (17.6%)\n"
     ]
    },
    {
     "name": "stderr",
     "output_type": "stream",
     "text": [
      "Evaluating TACTIC vs. INDIGO::  33%|███▎      | 4/12 [1:08:11<2:12:07, 990.89s/it]"
     ]
    },
    {
     "name": "stdout",
     "output_type": "stream",
     "text": [
      "\t\tHoldout results (INDIGO):\tR = 0.26, p = 2.15e-08\n",
      "\t\tHoldout results (INDIGO-Mtb):\tR = -0.09, p = 0.047\n",
      "\t\tHoldout results (TACTIC):\tR = 0.38, p = 8.67e-17\n",
      "\tStrain: E. coli iAi1, N = 316 (12.3%)\n"
     ]
    },
    {
     "name": "stderr",
     "output_type": "stream",
     "text": [
      "Evaluating TACTIC vs. INDIGO::  42%|████▏     | 5/12 [1:25:37<1:57:56, 1010.93s/it]"
     ]
    },
    {
     "name": "stdout",
     "output_type": "stream",
     "text": [
      "\t\tHoldout results (INDIGO):\tR = 0.17, p = 0.00181\n",
      "\t\tHoldout results (INDIGO-Mtb):\tR = 0.15, p = 0.00791\n",
      "\t\tHoldout results (TACTIC):\tR = 0.63, p = 6.14e-36\n",
      "\tStrain: M. tuberculosis ATCC 35801, N = 154 (6.0%)\n"
     ]
    },
    {
     "name": "stderr",
     "output_type": "stream",
     "text": [
      "Evaluating TACTIC vs. INDIGO::  50%|█████     | 6/12 [1:44:10<1:44:33, 1045.63s/it]"
     ]
    },
    {
     "name": "stdout",
     "output_type": "stream",
     "text": [
      "\t\tHoldout results (INDIGO):\tR = 0.04, p = 0.662\n",
      "\t\tHoldout results (INDIGO-Mtb):\tR = 0.35, p = 9.88e-06\n",
      "\t\tHoldout results (TACTIC):\tR = 0.16, p = 0.0519\n",
      "\tStrain: M. tuberculosis H37Rv, N = 159 (6.2%)\n"
     ]
    },
    {
     "name": "stderr",
     "output_type": "stream",
     "text": [
      "Evaluating TACTIC vs. INDIGO::  58%|█████▊    | 7/12 [2:00:39<1:25:34, 1026.98s/it]"
     ]
    },
    {
     "name": "stdout",
     "output_type": "stream",
     "text": [
      "\t\tHoldout results (INDIGO):\tR = 0.25, p = 0.00155\n",
      "\t\tHoldout results (INDIGO-Mtb):\tR = 0.3, p = 9.27e-05\n",
      "\t\tHoldout results (TACTIC):\tR = 0.17, p = 0.0275\n",
      "\tStrain: P. aeruginosa PA14, N = 163 (6.4%)\n"
     ]
    },
    {
     "name": "stderr",
     "output_type": "stream",
     "text": [
      "Evaluating TACTIC vs. INDIGO::  67%|██████▋   | 8/12 [2:18:58<1:09:59, 1049.98s/it]"
     ]
    },
    {
     "name": "stdout",
     "output_type": "stream",
     "text": [
      "\t\tHoldout results (INDIGO):\tR = 0.06, p = 0.421\n",
      "\t\tHoldout results (INDIGO-Mtb):\tR = 0.17, p = 0.0342\n",
      "\t\tHoldout results (TACTIC):\tR = 0.52, p = 1.82e-12\n",
      "\tStrain: P. aeruginosa PAO1, N = 163 (6.4%)\n"
     ]
    },
    {
     "name": "stderr",
     "output_type": "stream",
     "text": [
      "Evaluating TACTIC vs. INDIGO::  75%|███████▌  | 9/12 [2:37:39<53:36, 1072.07s/it]  "
     ]
    },
    {
     "name": "stdout",
     "output_type": "stream",
     "text": [
      "\t\tHoldout results (INDIGO):\tR = -0.13, p = 0.111\n",
      "\t\tHoldout results (INDIGO-Mtb):\tR = -0.07, p = 0.358\n",
      "\t\tHoldout results (TACTIC):\tR = 0.41, p = 8.01e-08\n",
      "\tStrain: S. aureus ATCC 29213, N = 45 (1.8%)\n"
     ]
    },
    {
     "name": "stderr",
     "output_type": "stream",
     "text": [
      "Evaluating TACTIC vs. INDIGO::  83%|████████▎ | 10/12 [2:57:01<36:39, 1099.79s/it]"
     ]
    },
    {
     "name": "stdout",
     "output_type": "stream",
     "text": [
      "\t\tHoldout results (INDIGO):\tR = 0.23, p = 0.135\n",
      "\t\tHoldout results (INDIGO-Mtb):\tR = 0.16, p = 0.294\n",
      "\t\tHoldout results (TACTIC):\tR = 0.2, p = 0.188\n",
      "\tStrain: S. typhimurium 14028s, N = 248 (9.7%)\n"
     ]
    },
    {
     "name": "stderr",
     "output_type": "stream",
     "text": [
      "Evaluating TACTIC vs. INDIGO::  92%|█████████▏| 11/12 [3:14:42<18:08, 1088.01s/it]"
     ]
    },
    {
     "name": "stdout",
     "output_type": "stream",
     "text": [
      "\t\tHoldout results (INDIGO):\tR = 0.05, p = 0.398\n",
      "\t\tHoldout results (INDIGO-Mtb):\tR = 0.0, p = 0.987\n",
      "\t\tHoldout results (TACTIC):\tR = 0.63, p = 4.03e-29\n",
      "\tStrain: S. typhimurium LT2, N = 248 (9.7%)\n"
     ]
    },
    {
     "name": "stderr",
     "output_type": "stream",
     "text": [
      "Evaluating TACTIC vs. INDIGO:: 100%|██████████| 12/12 [3:32:19<00:00, 1061.60s/it]"
     ]
    },
    {
     "name": "stdout",
     "output_type": "stream",
     "text": [
      "\t\tHoldout results (INDIGO):\tR = 0.08, p = 0.189\n",
      "\t\tHoldout results (INDIGO-Mtb):\tR = 0.07, p = 0.307\n",
      "\t\tHoldout results (TACTIC):\tR = 0.67, p = 1.07e-33\n"
     ]
    },
    {
     "name": "stderr",
     "output_type": "stream",
     "text": [
      "\n"
     ]
    }
   ],
   "source": [
    "# Evaluate TACTIC vs. INDIGO\n",
    "N = data.shape[0]\n",
    "for strain in tqdm(strains, desc='Evaluating TACTIC vs. INDIGO:'): \n",
    "    # Test set (strain of interest)\n",
    "    test_ix         = [s == strain for s in data['Strain'].tolist()]\n",
    "    test_ixns       = list(compress(data['Interaction'], test_ix))\n",
    "    test_scores     = list(compress(data['Score'], test_ix))\n",
    "    Xte, n          = X[test_ix], test_ix.count(True)\n",
    "    print('\\tStrain: {}, N = {} ({}%)'.format(strain, n, round(100*n/N, 1)))\n",
    "    # Train set for TACTIC model\n",
    "    train_ix        = [not i for i in test_ix]\n",
    "    if strain==data1['Strain'].unique()[0]: \n",
    "        extra_X     = master['X'][idx2]\n",
    "        extra_s     = master['data']['Score'][idx2].tolist()\n",
    "    elif strain==data2['Strain'].unique()[0]: \n",
    "        extra_X     = master['X'][idx1]\n",
    "        extra_s     = master['data']['Score'][idx1].tolist()\n",
    "    else: \n",
    "        extra_X     = master['X'][idx1 | idx2]\n",
    "        extra_s     = master['data']['Score'][idx1 | idx2].tolist()\n",
    "    Xtr             = sparse.vstack((extra_X, X[train_ix]))\n",
    "    train_scores    = extra_s + list(compress(data['Score'], train_ix))\n",
    "    # Instantiate results\n",
    "    df = pd.DataFrame({'Ixn': test_ixns, 'Score': test_scores, \n",
    "                       'EC': list(compress(out['bench']['EC'], test_ix)), \n",
    "                       'TB': list(compress(out['bench']['TB'], test_ix))})\n",
    "    # Run TACTIC\n",
    "    model           = RandomForestRegressor()\n",
    "    model.fit(Xtr, train_scores)\n",
    "    df['TACTIC'] = model.predict(Xte)\n",
    "    # Print results\n",
    "    r, p = spearmanr(df['Score'], df['EC'])\n",
    "    print('\\t\\tHoldout results (INDIGO):\\tR = {}, p = {:.3g}'.format(round(r, 2), p))\n",
    "    r, p = spearmanr(df['Score'], df['TB'])\n",
    "    print('\\t\\tHoldout results (INDIGO-Mtb):\\tR = {}, p = {:.3g}'.format(round(r, 2), p))\n",
    "    r, p = spearmanr(df['Score'], df['TACTIC'])\n",
    "    print('\\t\\tHoldout results (TACTIC):\\tR = {}, p = {:.3g}'.format(round(r, 2), p))\n",
    "    # Store results\n",
    "    out['bench'][strain] = df"
   ]
  },
  {
   "cell_type": "markdown",
   "metadata": {},
   "source": [
    "### 2.4 Model comparison (~15 minutes)"
   ]
  },
  {
   "cell_type": "code",
   "execution_count": 23,
   "metadata": {},
   "outputs": [
    {
     "name": "stderr",
     "output_type": "stream",
     "text": [
      "Evaluating alternative ML algorithms:   0%|          | 0/5 [00:00<?, ?it/s]"
     ]
    },
    {
     "name": "stderr",
     "output_type": "stream",
     "text": []
    },
    {
     "name": "stdout",
     "output_type": "stream",
     "text": [
      "\tStrain: A. baumannii ATCC 17978, N = 45 (1.8%)\n"
     ]
    },
    {
     "name": "stderr",
     "output_type": "stream",
     "text": []
    },
    {
     "name": "stdout",
     "output_type": "stream",
     "text": [
      "\tStrain: E. coli BW25113, N = 473 (18.4%)\n"
     ]
    },
    {
     "name": "stderr",
     "output_type": "stream",
     "text": []
    },
    {
     "name": "stdout",
     "output_type": "stream",
     "text": [
      "\tStrain: E. coli MC4100, N = 98 (3.8%)\n"
     ]
    },
    {
     "name": "stderr",
     "output_type": "stream",
     "text": []
    },
    {
     "name": "stdout",
     "output_type": "stream",
     "text": [
      "\tStrain: E. coli MG1655, N = 452 (17.6%)\n"
     ]
    },
    {
     "name": "stderr",
     "output_type": "stream",
     "text": []
    },
    {
     "name": "stdout",
     "output_type": "stream",
     "text": [
      "\tStrain: E. coli iAi1, N = 316 (12.3%)\n"
     ]
    },
    {
     "name": "stderr",
     "output_type": "stream",
     "text": []
    },
    {
     "name": "stdout",
     "output_type": "stream",
     "text": [
      "\tStrain: M. tuberculosis ATCC 35801, N = 154 (6.0%)\n"
     ]
    },
    {
     "name": "stderr",
     "output_type": "stream",
     "text": []
    },
    {
     "name": "stdout",
     "output_type": "stream",
     "text": [
      "\tStrain: M. tuberculosis H37Rv, N = 159 (6.2%)\n"
     ]
    },
    {
     "name": "stderr",
     "output_type": "stream",
     "text": []
    },
    {
     "name": "stdout",
     "output_type": "stream",
     "text": [
      "\tStrain: P. aeruginosa PA14, N = 163 (6.4%)\n"
     ]
    },
    {
     "name": "stderr",
     "output_type": "stream",
     "text": []
    },
    {
     "name": "stdout",
     "output_type": "stream",
     "text": [
      "\tStrain: P. aeruginosa PAO1, N = 163 (6.4%)\n"
     ]
    },
    {
     "name": "stderr",
     "output_type": "stream",
     "text": []
    },
    {
     "name": "stdout",
     "output_type": "stream",
     "text": [
      "\tStrain: S. aureus ATCC 29213, N = 45 (1.8%)\n"
     ]
    },
    {
     "name": "stderr",
     "output_type": "stream",
     "text": []
    },
    {
     "name": "stdout",
     "output_type": "stream",
     "text": [
      "\tStrain: S. typhimurium 14028s, N = 248 (9.7%)\n"
     ]
    },
    {
     "name": "stderr",
     "output_type": "stream",
     "text": []
    },
    {
     "name": "stdout",
     "output_type": "stream",
     "text": [
      "\tStrain: S. typhimurium LT2, N = 248 (9.7%)\n"
     ]
    },
    {
     "name": "stderr",
     "output_type": "stream",
     "text": [
      "Evaluating alternative ML algorithms:  20%|██        | 1/5 [03:20<13:20, 200.19s/it]"
     ]
    },
    {
     "name": "stdout",
     "output_type": "stream",
     "text": [
      "\tStrain: A. baumannii ATCC 17978, N = 45 (1.8%)\n"
     ]
    },
    {
     "name": "stderr",
     "output_type": "stream",
     "text": []
    },
    {
     "name": "stdout",
     "output_type": "stream",
     "text": [
      "\tStrain: E. coli BW25113, N = 473 (18.4%)\n"
     ]
    },
    {
     "name": "stderr",
     "output_type": "stream",
     "text": []
    },
    {
     "name": "stdout",
     "output_type": "stream",
     "text": [
      "\tStrain: E. coli MC4100, N = 98 (3.8%)\n"
     ]
    },
    {
     "name": "stderr",
     "output_type": "stream",
     "text": []
    },
    {
     "name": "stdout",
     "output_type": "stream",
     "text": [
      "\tStrain: E. coli MG1655, N = 452 (17.6%)\n"
     ]
    },
    {
     "name": "stderr",
     "output_type": "stream",
     "text": []
    },
    {
     "name": "stdout",
     "output_type": "stream",
     "text": [
      "\tStrain: E. coli iAi1, N = 316 (12.3%)\n"
     ]
    },
    {
     "name": "stderr",
     "output_type": "stream",
     "text": []
    },
    {
     "name": "stdout",
     "output_type": "stream",
     "text": [
      "\tStrain: M. tuberculosis ATCC 35801, N = 154 (6.0%)\n"
     ]
    },
    {
     "name": "stderr",
     "output_type": "stream",
     "text": []
    },
    {
     "name": "stdout",
     "output_type": "stream",
     "text": [
      "\tStrain: M. tuberculosis H37Rv, N = 159 (6.2%)\n"
     ]
    },
    {
     "name": "stderr",
     "output_type": "stream",
     "text": []
    },
    {
     "name": "stdout",
     "output_type": "stream",
     "text": [
      "\tStrain: P. aeruginosa PA14, N = 163 (6.4%)\n"
     ]
    },
    {
     "name": "stderr",
     "output_type": "stream",
     "text": []
    },
    {
     "name": "stdout",
     "output_type": "stream",
     "text": [
      "\tStrain: P. aeruginosa PAO1, N = 163 (6.4%)\n"
     ]
    },
    {
     "name": "stderr",
     "output_type": "stream",
     "text": []
    },
    {
     "name": "stdout",
     "output_type": "stream",
     "text": [
      "\tStrain: S. aureus ATCC 29213, N = 45 (1.8%)\n"
     ]
    },
    {
     "name": "stderr",
     "output_type": "stream",
     "text": []
    },
    {
     "name": "stdout",
     "output_type": "stream",
     "text": [
      "\tStrain: S. typhimurium 14028s, N = 248 (9.7%)\n"
     ]
    },
    {
     "name": "stderr",
     "output_type": "stream",
     "text": []
    },
    {
     "name": "stdout",
     "output_type": "stream",
     "text": [
      "\tStrain: S. typhimurium LT2, N = 248 (9.7%)\n"
     ]
    },
    {
     "name": "stderr",
     "output_type": "stream",
     "text": [
      "Evaluating alternative ML algorithms:  40%|████      | 2/5 [04:29<06:09, 123.19s/it]"
     ]
    },
    {
     "name": "stdout",
     "output_type": "stream",
     "text": [
      "\tStrain: A. baumannii ATCC 17978, N = 45 (1.8%)\n"
     ]
    },
    {
     "name": "stderr",
     "output_type": "stream",
     "text": []
    },
    {
     "name": "stdout",
     "output_type": "stream",
     "text": [
      "\tStrain: E. coli BW25113, N = 473 (18.4%)\n"
     ]
    },
    {
     "name": "stderr",
     "output_type": "stream",
     "text": []
    },
    {
     "name": "stdout",
     "output_type": "stream",
     "text": [
      "\tStrain: E. coli MC4100, N = 98 (3.8%)\n"
     ]
    },
    {
     "name": "stderr",
     "output_type": "stream",
     "text": []
    },
    {
     "name": "stdout",
     "output_type": "stream",
     "text": [
      "\tStrain: E. coli MG1655, N = 452 (17.6%)\n"
     ]
    },
    {
     "name": "stderr",
     "output_type": "stream",
     "text": []
    },
    {
     "name": "stdout",
     "output_type": "stream",
     "text": [
      "\tStrain: E. coli iAi1, N = 316 (12.3%)\n"
     ]
    },
    {
     "name": "stderr",
     "output_type": "stream",
     "text": []
    },
    {
     "name": "stdout",
     "output_type": "stream",
     "text": [
      "\tStrain: M. tuberculosis ATCC 35801, N = 154 (6.0%)\n"
     ]
    },
    {
     "name": "stderr",
     "output_type": "stream",
     "text": []
    },
    {
     "name": "stdout",
     "output_type": "stream",
     "text": [
      "\tStrain: M. tuberculosis H37Rv, N = 159 (6.2%)\n"
     ]
    },
    {
     "name": "stderr",
     "output_type": "stream",
     "text": []
    },
    {
     "name": "stdout",
     "output_type": "stream",
     "text": [
      "\tStrain: P. aeruginosa PA14, N = 163 (6.4%)\n"
     ]
    },
    {
     "name": "stderr",
     "output_type": "stream",
     "text": []
    },
    {
     "name": "stdout",
     "output_type": "stream",
     "text": [
      "\tStrain: P. aeruginosa PAO1, N = 163 (6.4%)\n"
     ]
    },
    {
     "name": "stderr",
     "output_type": "stream",
     "text": []
    },
    {
     "name": "stdout",
     "output_type": "stream",
     "text": [
      "\tStrain: S. aureus ATCC 29213, N = 45 (1.8%)\n"
     ]
    },
    {
     "name": "stderr",
     "output_type": "stream",
     "text": []
    },
    {
     "name": "stdout",
     "output_type": "stream",
     "text": [
      "\tStrain: S. typhimurium 14028s, N = 248 (9.7%)\n"
     ]
    },
    {
     "name": "stderr",
     "output_type": "stream",
     "text": []
    },
    {
     "name": "stdout",
     "output_type": "stream",
     "text": [
      "\tStrain: S. typhimurium LT2, N = 248 (9.7%)\n"
     ]
    },
    {
     "name": "stderr",
     "output_type": "stream",
     "text": [
      "Evaluating alternative ML algorithms:  60%|██████    | 3/5 [10:28<07:41, 230.75s/it]"
     ]
    },
    {
     "name": "stdout",
     "output_type": "stream",
     "text": [
      "\tStrain: A. baumannii ATCC 17978, N = 45 (1.8%)\n"
     ]
    },
    {
     "name": "stderr",
     "output_type": "stream",
     "text": []
    },
    {
     "name": "stdout",
     "output_type": "stream",
     "text": [
      "\tStrain: E. coli BW25113, N = 473 (18.4%)\n"
     ]
    },
    {
     "name": "stderr",
     "output_type": "stream",
     "text": []
    },
    {
     "name": "stdout",
     "output_type": "stream",
     "text": [
      "\tStrain: E. coli MC4100, N = 98 (3.8%)\n"
     ]
    },
    {
     "name": "stderr",
     "output_type": "stream",
     "text": []
    },
    {
     "name": "stdout",
     "output_type": "stream",
     "text": [
      "\tStrain: E. coli MG1655, N = 452 (17.6%)\n"
     ]
    },
    {
     "name": "stderr",
     "output_type": "stream",
     "text": []
    },
    {
     "name": "stdout",
     "output_type": "stream",
     "text": [
      "\tStrain: E. coli iAi1, N = 316 (12.3%)\n"
     ]
    },
    {
     "name": "stderr",
     "output_type": "stream",
     "text": []
    },
    {
     "name": "stdout",
     "output_type": "stream",
     "text": [
      "\tStrain: M. tuberculosis ATCC 35801, N = 154 (6.0%)\n"
     ]
    },
    {
     "name": "stderr",
     "output_type": "stream",
     "text": []
    },
    {
     "name": "stdout",
     "output_type": "stream",
     "text": [
      "\tStrain: M. tuberculosis H37Rv, N = 159 (6.2%)\n"
     ]
    },
    {
     "name": "stderr",
     "output_type": "stream",
     "text": []
    },
    {
     "name": "stdout",
     "output_type": "stream",
     "text": [
      "\tStrain: P. aeruginosa PA14, N = 163 (6.4%)\n"
     ]
    },
    {
     "name": "stderr",
     "output_type": "stream",
     "text": []
    },
    {
     "name": "stdout",
     "output_type": "stream",
     "text": [
      "\tStrain: P. aeruginosa PAO1, N = 163 (6.4%)\n"
     ]
    },
    {
     "name": "stderr",
     "output_type": "stream",
     "text": []
    },
    {
     "name": "stdout",
     "output_type": "stream",
     "text": [
      "\tStrain: S. aureus ATCC 29213, N = 45 (1.8%)\n"
     ]
    },
    {
     "name": "stderr",
     "output_type": "stream",
     "text": []
    },
    {
     "name": "stdout",
     "output_type": "stream",
     "text": [
      "\tStrain: S. typhimurium 14028s, N = 248 (9.7%)\n"
     ]
    },
    {
     "name": "stderr",
     "output_type": "stream",
     "text": []
    },
    {
     "name": "stdout",
     "output_type": "stream",
     "text": [
      "\tStrain: S. typhimurium LT2, N = 248 (9.7%)\n"
     ]
    },
    {
     "name": "stderr",
     "output_type": "stream",
     "text": [
      "Evaluating alternative ML algorithms:  80%|████████  | 4/5 [12:55<03:17, 197.96s/it]"
     ]
    },
    {
     "name": "stdout",
     "output_type": "stream",
     "text": [
      "\tStrain: A. baumannii ATCC 17978, N = 45 (1.8%)\n"
     ]
    },
    {
     "name": "stderr",
     "output_type": "stream",
     "text": []
    },
    {
     "name": "stdout",
     "output_type": "stream",
     "text": [
      "\tStrain: E. coli BW25113, N = 473 (18.4%)\n"
     ]
    },
    {
     "name": "stderr",
     "output_type": "stream",
     "text": []
    },
    {
     "name": "stdout",
     "output_type": "stream",
     "text": [
      "\tStrain: E. coli MC4100, N = 98 (3.8%)\n"
     ]
    },
    {
     "name": "stderr",
     "output_type": "stream",
     "text": []
    },
    {
     "name": "stdout",
     "output_type": "stream",
     "text": [
      "\tStrain: E. coli MG1655, N = 452 (17.6%)\n"
     ]
    },
    {
     "name": "stderr",
     "output_type": "stream",
     "text": []
    },
    {
     "name": "stdout",
     "output_type": "stream",
     "text": [
      "\tStrain: E. coli iAi1, N = 316 (12.3%)\n"
     ]
    },
    {
     "name": "stderr",
     "output_type": "stream",
     "text": []
    },
    {
     "name": "stdout",
     "output_type": "stream",
     "text": [
      "\tStrain: M. tuberculosis ATCC 35801, N = 154 (6.0%)\n"
     ]
    },
    {
     "name": "stderr",
     "output_type": "stream",
     "text": []
    },
    {
     "name": "stdout",
     "output_type": "stream",
     "text": [
      "\tStrain: M. tuberculosis H37Rv, N = 159 (6.2%)\n"
     ]
    },
    {
     "name": "stderr",
     "output_type": "stream",
     "text": []
    },
    {
     "name": "stdout",
     "output_type": "stream",
     "text": [
      "\tStrain: P. aeruginosa PA14, N = 163 (6.4%)\n"
     ]
    },
    {
     "name": "stderr",
     "output_type": "stream",
     "text": []
    },
    {
     "name": "stdout",
     "output_type": "stream",
     "text": [
      "\tStrain: P. aeruginosa PAO1, N = 163 (6.4%)\n"
     ]
    },
    {
     "name": "stderr",
     "output_type": "stream",
     "text": []
    },
    {
     "name": "stdout",
     "output_type": "stream",
     "text": [
      "\tStrain: S. aureus ATCC 29213, N = 45 (1.8%)\n"
     ]
    },
    {
     "name": "stderr",
     "output_type": "stream",
     "text": []
    },
    {
     "name": "stdout",
     "output_type": "stream",
     "text": [
      "\tStrain: S. typhimurium 14028s, N = 248 (9.7%)\n"
     ]
    },
    {
     "name": "stderr",
     "output_type": "stream",
     "text": []
    },
    {
     "name": "stdout",
     "output_type": "stream",
     "text": [
      "\tStrain: S. typhimurium LT2, N = 248 (9.7%)\n"
     ]
    },
    {
     "name": "stderr",
     "output_type": "stream",
     "text": [
      "Evaluating alternative ML algorithms: 100%|██████████| 5/5 [18:01<00:00, 216.38s/it]\n"
     ]
    }
   ],
   "source": [
    "# Check other ML algorithms\n",
    "from sklearn.linear_model import LinearRegression, Ridge\n",
    "from sklearn.svm import SVR \n",
    "from sklearn.tree import DecisionTreeRegressor\n",
    "from sklearn.ensemble import GradientBoostingRegressor\n",
    "\n",
    "# Loop through ML algorithms\n",
    "MLcomp = dict()\n",
    "algs = [LinearRegression(), Ridge(), SVR(), DecisionTreeRegressor(), GradientBoostingRegressor()]\n",
    "for alg in tqdm(algs, desc='Evaluating alternative ML algorithms'): \n",
    "    # Define ML label\n",
    "    label = str(alg)[:-2]\n",
    "    MLcomp[label] = dict()\n",
    "    # INDIGO\n",
    "    m1 = alg.fit(X1tr, data1['Score'].tolist())\n",
    "    MLcomp[label]['EC'] = m1.predict(X1)\n",
    "    # INDIGO-Mtb\n",
    "    m2 = alg.fit(X2tr, data2['Score'].tolist())\n",
    "    MLcomp[label]['TB'] = m2.predict(X2)\n",
    "    # TACTIC\n",
    "    MLcomp[label]['TACTIC'] = np.empty(data.shape[0], dtype=float)\n",
    "    for strain in tqdm(strains, desc='Building TACTIC models', leave=False): \n",
    "        # Test set (strain of interest)\n",
    "        test_ix         = [s == strain for s in data['Strain'].tolist()]\n",
    "        test_ixns       = list(compress(data['Interaction'], test_ix))\n",
    "        test_scores     = list(compress(data['Score'], test_ix))\n",
    "        Xte, n          = X[test_ix], test_ix.count(True)\n",
    "        print('\\tStrain: {}, N = {} ({}%)'.format(strain, n, round(100*n/N, 1)))\n",
    "        # Train set for TACTIC model\n",
    "        train_ix        = [not i for i in test_ix]\n",
    "        if strain==data1['Strain'].unique()[0]: \n",
    "            extra_X     = master['X'][idx2]\n",
    "            extra_s     = master['data']['Score'][idx2].tolist()\n",
    "        elif strain==data2['Strain'].unique()[0]: \n",
    "            extra_X     = master['X'][idx1]\n",
    "            extra_s     = master['data']['Score'][idx1].tolist()\n",
    "        else: \n",
    "            extra_X     = master['X'][idx1 | idx2]\n",
    "            extra_s     = master['data']['Score'][idx1 | idx2].tolist()\n",
    "        Xtr             = sparse.vstack((extra_X, X[train_ix]))\n",
    "        train_scores    = extra_s + list(compress(data['Score'], train_ix))\n",
    "        # Instantiate results\n",
    "        df = pd.DataFrame({'Ixn': test_ixns, 'Score': test_scores, \n",
    "                            'EC': list(compress(MLcomp[label]['EC'], test_ix)), \n",
    "                            'TB': list(compress(MLcomp[label]['TB'], test_ix))})\n",
    "        # Run TACTIC\n",
    "        model            = alg.fit(Xtr, train_scores)\n",
    "        df['TACTIC']     = model.predict(Xte)\n",
    "        # Store results\n",
    "        MLcomp[label][strain] = df\n",
    "        MLcomp[label]['TACTIC'][test_ix] = df['TACTIC']\n",
    "\n",
    "# Save output\n",
    "out['bench']['ML'] = MLcomp"
   ]
  },
  {
   "cell_type": "code",
   "execution_count": 24,
   "metadata": {},
   "outputs": [],
   "source": [
    "# Checkpoint\n",
    "with open('./TACTIC_data.pkl', 'wb') as f: \n",
    "    pickle.dump([ecoli, mtb, master, out], f)"
   ]
  },
  {
   "cell_type": "markdown",
   "metadata": {},
   "source": [
    "## 3. Model Interpretation\n",
    "\n",
    "Inspection of feature importance and evaluation of pathways enriched by top features."
   ]
  },
  {
   "cell_type": "code",
   "execution_count": 25,
   "metadata": {},
   "outputs": [],
   "source": [
    "# Define full TACTIC model (runtime: ~20 minutes)\n",
    "model = RandomForestRegressor()\n",
    "model.fit(master['X'], master['data']['Score'].tolist())\n",
    "out['model']['TACTIC'] = model"
   ]
  },
  {
   "cell_type": "markdown",
   "metadata": {},
   "source": [
    "### 3.1 Extract top important features"
   ]
  },
  {
   "cell_type": "code",
   "execution_count": 26,
   "metadata": {},
   "outputs": [],
   "source": [
    "# Import ecoli-to-mtb gene map\n",
    "gmap = pd.read_csv('./data/OrtholugeDB/Ec-MG1655_Mtb-H37Rv.txt', sep='\\t')\n",
    "gmap = gmap[['Locus Tag (Strain 1)', 'Locus Tag (Strain 2)']].rename(\n",
    "\tcolumns={'Locus Tag (Strain 1)': 'ecoli', 'Locus Tag (Strain 2)': 'mtb'}\n",
    ")\n",
    "gmap['mtb'] = [g.replace('RVBD_', 'Rv') for g in gmap['mtb'].tolist()]\n",
    "\n",
    "# Feature importance\n",
    "mdl = out['model']['TACTIC']\n",
    "fns = master['df'].index\n",
    "gns = [s.split('-')[-1] for s in fns]\n",
    "gns = [s.replace('RVBD_', 'Rv') for s in gns]\n",
    "gns = [s.split('_')[0] for s in gns]\n",
    "imp = mdl.feature_importances_\n",
    "std = np.std([tree.feature_importances_ for tree in mdl.estimators_], axis=0)\n",
    "df  = pd.DataFrame({'Gene': gns, 'Score': imp, 'SD': std}, index=fns)\n",
    "\n",
    "# Calculate cumulative sum of importance scores\n",
    "df  = df.sort_values(by=['Score'], ascending=False)\n",
    "df['CS'] = np.cumsum(df['Score']) / np.sum(df['Score'])\n",
    "\n",
    "# Rename gene column\n",
    "idx = [g in df['Gene'].tolist() for g in gmap['mtb'].tolist()]\n",
    "oegenes = list(compress(gmap['ecoli'].tolist(), idx))\n",
    "omgenes = list(compress(gmap['mtb'].tolist(), idx))\n",
    "labels = ['{} / {}'.format(eg, mg) for eg, mg in zip(oegenes, omgenes)]\n",
    "df['Gene'] = df['Gene'].replace(dict(zip(omgenes, labels)))\n",
    "\n",
    "# Save main output\n",
    "out['importance'] = df\n",
    "\n",
    "# Extract features that explain 95% \n",
    "k = np.argmax(df['CS'] > 0.95) + 1\n",
    "genes = sorted(set(df['Gene'][:k]), key=lambda v: v.upper())\n",
    "\n",
    "# Separate overlapping vs. unique genes\n",
    "ogenes = [g for g in genes if '/' in g]\n",
    "ugenes = [g for g in genes if g not in ogenes]\n",
    "\n",
    "# Curate gene list for E. coli\n",
    "egenes = sorted(set([g for g in ugenes if g.startswith('b')] + [g.split(' / ')[0] for g in ogenes]))\n",
    "df = pd.read_csv('./data/OrtholugeDB/Ec-MG1655_all.txt', sep='\\t')\n",
    "df = df.iloc[:, 1:4]\n",
    "df.columns = ['Locus', 'RefSeq', 'Description']\n",
    "edf = df[df['Locus'].isin(egenes)]\n",
    "\n",
    "# Curate gene list for M. tb\n",
    "mgenes = sorted(set([g for g in ugenes if g.startswith('Rv')] + [g.split(' / ')[1] for g in ogenes]))\n",
    "df = pd.read_csv('./data/OrtholugeDB/Mtb-H37Rv_all.txt', sep='\\t')\n",
    "df = df.iloc[:, 1:4]\n",
    "df.columns = ['Locus', 'RefSeq', 'Description']\n",
    "df['Locus'] = [s.replace('RVBD_', 'Rv') for s in df['Locus'].tolist()]\n",
    "mdf = df[df['Locus'].isin(mgenes)]"
   ]
  },
  {
   "cell_type": "markdown",
   "metadata": {},
   "source": [
    "### 3.2 GSEA based on KEGG database"
   ]
  },
  {
   "cell_type": "code",
   "execution_count": 27,
   "metadata": {},
   "outputs": [],
   "source": [
    "# Instantialize output variable\n",
    "out['gsea'] = dict()"
   ]
  },
  {
   "cell_type": "markdown",
   "metadata": {},
   "source": [
    "#### 3.2.1 E. coli"
   ]
  },
  {
   "cell_type": "code",
   "execution_count": 28,
   "metadata": {},
   "outputs": [],
   "source": [
    "# Import gene info\n",
    "df = pd.read_csv('https://rest.kegg.jp/list/eco', sep='\\t', header=None)\n",
    "df.index = [s.split(':')[1] for s in df.iloc[:, 0].tolist()]\n",
    "df['Gene'] = [s.split(';')[0] for s in df.iloc[:, -1]]\n",
    "df['Description'] = [s.split('; ')[1] for s in df.iloc[:, -2]]\n",
    "eco_genes = df[['Gene', 'Description']]\n",
    "\n",
    "# Import pathway info\n",
    "df = pd.read_csv('https://rest.kegg.jp/list/pathway/eco', sep='\\t', header=None)\n",
    "df = df.set_index(0).sort_index().rename(columns={1: 'Pathway'})\n",
    "df['Pathway'] = [p.split(' - ')[0] for p in df['Pathway'].tolist()]\n",
    "eco_path = df[['Pathway']]\n",
    "\n",
    "# Import pathways + associated genes\n",
    "df = pd.read_csv('https://rest.kegg.jp/link/eco/pathway', sep='\\t', header=None)\n",
    "df['pathway'] = [s.split(':')[1] for s in df.iloc[:, 0]]\n",
    "df['gene'] = [s.split(':')[1] for s in df.iloc[:, 1]]\n",
    "pathways = sorted(set(df['pathway'].values))\n",
    "genes = sorted(set(df['gene'].values))\n",
    "eco = dict()\n",
    "for path in pathways: \n",
    "    eco[path] = df.loc[df['pathway']==path, 'gene'].tolist()\n",
    "eco_path['N'] = [len(eco[path]) for path in eco_path.index]\n",
    "\n",
    "# Add pathway to gene info\n",
    "gene_dict = dict()\n",
    "for g in genes: \n",
    "    pids = df['pathway'].values[df['gene']==g]\n",
    "    pathway = [eco_path.loc[p, 'Pathway'] for p in pids]\n",
    "    if len(pathway) > 1: \n",
    "        gene_dict[g] = ', '.join(pathway)\n",
    "    else: \n",
    "        gene_dict[g] = pathway[0]\n",
    "eco_genes['Pathway'] = eco_genes.index.map(gene_dict)\n",
    "\n",
    "# Load gene list\n",
    "with open('data/GSEA/ecoli_genes.txt') as file:\n",
    "    egenes = [line.rstrip() for line in file]\n",
    "eco_path['R'] = np.nan\n",
    "for idx in eco_path.index: \n",
    "    eco_path.loc[idx, 'R'] = [g in eco[idx] for g in egenes].count(True)\n",
    "\n",
    "# Hypergeometric test\n",
    "M = len(genes)\n",
    "N = [g in genes for g in egenes].count(True)\n",
    "eco_path = eco_path.assign(p=lambda x: (hypergeom(M=M, n=x['N'], N=N).sf(x['R']-1)))\n",
    "eco_path['padj'] = multipletests(eco_path['p'], method='fdr_bh')[1]\n",
    "out['gsea']['ecoli'] = eco_path"
   ]
  },
  {
   "cell_type": "markdown",
   "metadata": {},
   "source": [
    "#### 3.2.2 M. tb"
   ]
  },
  {
   "cell_type": "code",
   "execution_count": 29,
   "metadata": {},
   "outputs": [],
   "source": [
    "# Import gene info\n",
    "df = pd.read_csv('https://rest.kegg.jp/list/mtu', sep='\\t', header=None)\n",
    "df.index = [s.split(':')[1] for s in df.iloc[:, 0].tolist()]\n",
    "df['Gene'] = [s.split(';')[0] for s in df.iloc[:, -1]]\n",
    "def dscr(s): \n",
    "    try: \n",
    "        return s.split('; ')[1]\n",
    "    except: \n",
    "        return s\n",
    "df['Description'] = [dscr(s) for s in df.iloc[:, -2]]\n",
    "mtu_genes = df[['Gene', 'Description']]\n",
    "\n",
    "# Import pathway info\n",
    "df = pd.read_csv('https://rest.kegg.jp/list/pathway/mtu', sep='\\t', header=None)\n",
    "df = df.set_index(0).sort_index().rename(columns={1: 'Pathway'})\n",
    "df['Pathway'] = [p.split(' - ')[0] for p in df['Pathway'].tolist()]\n",
    "mtu_path = df[['Pathway']]\n",
    "\n",
    "# Import pathways + associated genes\n",
    "df = pd.read_csv('https://rest.kegg.jp/link/mtu/pathway', sep='\\t', header=None)\n",
    "df['pathway'] = [s.split(':')[1] for s in df.iloc[:, 0]]\n",
    "df['gene'] = [s.split(':')[1] for s in df.iloc[:, 1]]\n",
    "pathways = sorted(set(df['pathway'].values))\n",
    "genes = sorted(set(df['gene'].values))\n",
    "mtu = dict()\n",
    "for path in pathways: \n",
    "    mtu[path] = df.loc[df['pathway']==path, 'gene'].tolist()\n",
    "mtu_path['N'] = [len(mtu[path]) for path in mtu_path.index]\n",
    "\n",
    "# Add pathway to gene info\n",
    "gene_dict = dict()\n",
    "for g in genes: \n",
    "    pids = df['pathway'].values[df['gene']==g]\n",
    "    pathway = [mtu_path.loc[p, 'Pathway'] for p in pids]\n",
    "    if len(pathway) > 1: \n",
    "        gene_dict[g] = ', '.join(pathway)\n",
    "    else: \n",
    "        gene_dict[g] = pathway[0]\n",
    "mtu_genes['Pathway'] = mtu_genes.index.map(gene_dict)\n",
    "\n",
    "# Load gene list\n",
    "with open('data/GSEA/mtb_genes.txt') as file:\n",
    "    mgenes = [line.rstrip() for line in file]\n",
    "mtu_path['R'] = np.nan\n",
    "for idx in mtu_path.index: \n",
    "    mtu_path.loc[idx, 'R'] = [g in mtu[idx] for g in mgenes].count(True)\n",
    "\n",
    "# Hypergeometric test\n",
    "M = len(genes)\n",
    "N = [g in genes for g in mgenes].count(True)\n",
    "mtu_path = mtu_path.assign(p=lambda x: (hypergeom(M=M, n=x['N'], N=N).sf(x['R']-1)))\n",
    "mtu_path['padj'] = multipletests(mtu_path['p'], method='fdr_bh')[1]\n",
    "out['gsea']['mtb'] = mtu_path"
   ]
  },
  {
   "cell_type": "markdown",
   "metadata": {},
   "source": [
    "#### 3.2.3 Evaluate top predictors in enriched pathways"
   ]
  },
  {
   "cell_type": "code",
   "execution_count": 30,
   "metadata": {},
   "outputs": [],
   "source": [
    "# Define genes\n",
    "edf = out['gsea']['ecoli'][out['gsea']['ecoli']['padj'] < 0.05]\n",
    "mdf = out['gsea']['mtb'][out['gsea']['mtb']['padj'] < 0.05]\n",
    "genes = []\n",
    "for i in edf.index: \n",
    "    genes = genes + eco[i]\n",
    "for i in mdf.index: \n",
    "    genes = genes + mtu[i]\n",
    "\n",
    "# Isolate input data\n",
    "df = out['importance'][out['importance']['CS'] <= 0.95]\n",
    "x = [f for f in df.index if any(g in f for g in genes)]\n",
    "fdf = master['df'].loc[x]\n",
    "\n",
    "# Conduct statistical test\n",
    "t, p = [], []\n",
    "sjx = master['data']['Label'] == 'Synergy'\n",
    "ajx = master['data']['Label'] == 'Antagonism'\n",
    "for i in fdf.index: \n",
    "    if i.startswith('sigma'): \n",
    "        x = fdf.loc[i].values[sjx]\n",
    "        y = fdf.loc[i].values[ajx]\n",
    "        tstat, pval = ttest_ind(a=x, b=y, equal_var=True)\n",
    "        \"\"\"\n",
    "        if np.var(x)/np.var(y) > 4 or np.var(y)/np.var(x) > 4: \n",
    "            tstat, pval = ttest_ind(a=x, b=y, equal_var=False)\n",
    "        else: \n",
    "            tstat, pval = ttest_ind(a=x, b=y, equal_var=True)\n",
    "        \"\"\"\n",
    "    elif i.startswith('delta'): \n",
    "        cdf = pd.crosstab(master['data']['Label'][sjx | ajx], fdf.loc[i].values[sjx | ajx])\n",
    "        tstat, pval, _, _ = chi2_contingency(cdf, correction=True)\n",
    "    # Save results\n",
    "    t.append(tstat)\n",
    "    p.append(pval)\n",
    "tdf = pd.DataFrame({'t': t, 'p': p}, index=fdf.index)\n",
    "tdf['padj'] = multipletests(tdf['p'], method='fdr_bh')[1]\n",
    "\n",
    "# Save results\n",
    "out['gsea']['features'] = tdf"
   ]
  },
  {
   "cell_type": "code",
   "execution_count": 35,
   "metadata": {},
   "outputs": [],
   "source": [
    "# Checkpoint\n",
    "with open('./TACTIC_data.pkl', 'wb') as f: \n",
    "    pickle.dump([ecoli, mtb, master, out], f)"
   ]
  },
  {
   "cell_type": "markdown",
   "metadata": {},
   "source": [
    "## 4. Prediction Landscape\n",
    "\n",
    "Prediction of all possible 2-way interactions between 86 drugs across 18 bacterial strains and 9 media conditions."
   ]
  },
  {
   "cell_type": "markdown",
   "metadata": {},
   "source": [
    "### 4.1 Define input"
   ]
  },
  {
   "cell_type": "code",
   "execution_count": 36,
   "metadata": {},
   "outputs": [],
   "source": [
    "# Instantiate output variable\n",
    "out['landscape'] = dict()\n",
    "\n",
    "# Determine all possible 2-way interactions\n",
    "drugs           = [d for d in out['drugs'] if d not in ['GLUCOSE', 'GLYCEROL']]\n",
    "interactions    = []\n",
    "for k in range(2, 3):\n",
    "    interactions.extend(combinations(drugs, k))\n",
    "interactions    = [list(i) for i in interactions]\n",
    "\n",
    "# Add media-specific interactions\n",
    "media           = ['GLUCOSE', 'GLYCEROL', 'ACETATE', 'GLUCOSAMINE', 'MALTOSE', 'SUCCINATE', 'N-ACETYLGLUCOSAMINE', 'NH4CL']\n",
    "ixn_media       = []\n",
    "for m in media: \n",
    "    ixn_media   = ixn_media + [list(i) + [m] for i in interactions]\n",
    "\n",
    "# Define TACTIC strains\n",
    "tactic_strains  = sorted(out['strains'])\n",
    "\n",
    "# Define NTM strains\n",
    "ntm_strains     = ['M. abscessus', 'M. smegmatis']\n",
    "\n",
    "# Define gut microbiome strains\n",
    "orth            = {'ecoli': pd.read_csv('./data/OrtholugeDB/Ec-MG1655_gut.txt', sep='\\t'), \n",
    "                    'mtb': pd.read_csv('./data/OrtholugeDB/Mtb-H37Rv_gut.txt', sep='\\t')}\n",
    "jx              = [1, 3] + [x for x in range(4, orth['ecoli'].shape[1], 3)]\n",
    "df1, df2        = orth['ecoli'].iloc[:, jx], orth['mtb'].iloc[:, jx]\n",
    "df1.columns     = [s.split(' - ')[0] if 'comparison' in s else s for s in df1.columns]\n",
    "df2.columns     = [s.split(' - ')[0] if 'comparison' in s else s for s in df2.columns]\n",
    "gut_strains     = sorted(df1.columns[2:])\n",
    "emap, mmap      = dict(), dict()\n",
    "for strain in gut_strains: \n",
    "    emap[strain] = list(compress(df1.iloc[:, 0], df1[strain] != '0'))\n",
    "    mmap[strain] = list(compress(df2.iloc[:, 0], df2[strain] != '0'))\n",
    "\n",
    "# Define strains list + ML inputs\n",
    "strains         = tactic_strains + ntm_strains + gut_strains\n",
    "all_ixns        = interactions + ixn_media\n",
    "n1, n2, n       = len(all_ixns), len(strains), 50000\n",
    "ixn_list        = n2 * all_ixns\n",
    "str_list        = sorted(n1 * strains)"
   ]
  },
  {
   "cell_type": "markdown",
   "metadata": {},
   "source": [
    "### 4.2 Determine predictions (runtime: ~4 hours)"
   ]
  },
  {
   "cell_type": "code",
   "execution_count": 37,
   "metadata": {},
   "outputs": [
    {
     "name": "stdout",
     "output_type": "stream",
     "text": [
      "Request size: 592110 predictions. Partitioning into 12 batches...\n",
      "\tProcessing batch 1...\n"
     ]
    },
    {
     "name": "stderr",
     "output_type": "stream",
     "text": [
      "c:\\Users\\carol\\AppData\\Local\\Programs\\Python\\Python310\\lib\\site-packages\\indigopy\\core.py:351: UserWarning: Not all feature names are unique. Enforcing unique entries for output\n",
      "  warn('Not all feature names are unique. Enforcing unique entries for output')\n",
      "c:\\Users\\carol\\AppData\\Local\\Programs\\Python\\Python310\\lib\\site-packages\\indigopy\\core.py:406: UserWarning: Drug profile information missing for 24876 interactions\n",
      "  warn('Drug profile information missing for {} interactions'.format(len(interactions) - len(ixn_list)))\n",
      "Defining INDIGO features: 100%|██████████| 50000/50000 [06:16<00:00, 132.83it/s]\n",
      "Mapping orthologous genes: 100%|██████████| 2/2 [00:24<00:00, 12.37s/it]\n",
      "c:\\Users\\carol\\AppData\\Local\\Programs\\Python\\Python310\\lib\\site-packages\\indigopy\\core.py:406: UserWarning: Drug profile information missing for 3655 interactions\n",
      "  warn('Drug profile information missing for {} interactions'.format(len(interactions) - len(ixn_list)))\n",
      "Defining INDIGO features: 100%|██████████| 50000/50000 [08:43<00:00, 95.50it/s] \n",
      "Mapping orthologous genes: 100%|██████████| 2/2 [00:24<00:00, 12.37s/it]\n"
     ]
    },
    {
     "name": "stdout",
     "output_type": "stream",
     "text": [
      "\tProcessing batch 2...\n"
     ]
    },
    {
     "name": "stderr",
     "output_type": "stream",
     "text": [
      "c:\\Users\\carol\\AppData\\Local\\Programs\\Python\\Python310\\lib\\site-packages\\indigopy\\core.py:351: UserWarning: Not all feature names are unique. Enforcing unique entries for output\n",
      "  warn('Not all feature names are unique. Enforcing unique entries for output')\n",
      "c:\\Users\\carol\\AppData\\Local\\Programs\\Python\\Python310\\lib\\site-packages\\indigopy\\core.py:406: UserWarning: Drug profile information missing for 24915 interactions\n",
      "  warn('Drug profile information missing for {} interactions'.format(len(interactions) - len(ixn_list)))\n",
      "Defining INDIGO features: 100%|██████████| 50000/50000 [06:36<00:00, 126.22it/s]\n",
      "Mapping orthologous genes: 100%|██████████| 3/3 [00:36<00:00, 12.22s/it]\n",
      "c:\\Users\\carol\\AppData\\Local\\Programs\\Python\\Python310\\lib\\site-packages\\indigopy\\core.py:406: UserWarning: Drug profile information missing for 7310 interactions\n",
      "  warn('Drug profile information missing for {} interactions'.format(len(interactions) - len(ixn_list)))\n",
      "Defining INDIGO features: 100%|██████████| 50000/50000 [08:32<00:00, 97.56it/s] \n",
      "Mapping orthologous genes: 100%|██████████| 3/3 [00:28<00:00,  9.62s/it]\n"
     ]
    },
    {
     "name": "stdout",
     "output_type": "stream",
     "text": [
      "\tProcessing batch 3...\n"
     ]
    },
    {
     "name": "stderr",
     "output_type": "stream",
     "text": [
      "c:\\Users\\carol\\AppData\\Local\\Programs\\Python\\Python310\\lib\\site-packages\\indigopy\\core.py:351: UserWarning: Not all feature names are unique. Enforcing unique entries for output\n",
      "  warn('Not all feature names are unique. Enforcing unique entries for output')\n",
      "c:\\Users\\carol\\AppData\\Local\\Programs\\Python\\Python310\\lib\\site-packages\\indigopy\\core.py:406: UserWarning: Drug profile information missing for 25076 interactions\n",
      "  warn('Drug profile information missing for {} interactions'.format(len(interactions) - len(ixn_list)))\n",
      "Defining INDIGO features: 100%|██████████| 50000/50000 [06:56<00:00, 119.95it/s]\n",
      "Mapping orthologous genes: 100%|██████████| 2/2 [00:37<00:00, 18.86s/it]\n",
      "c:\\Users\\carol\\AppData\\Local\\Programs\\Python\\Python310\\lib\\site-packages\\indigopy\\core.py:406: UserWarning: Drug profile information missing for 3655 interactions\n",
      "  warn('Drug profile information missing for {} interactions'.format(len(interactions) - len(ixn_list)))\n",
      "Defining INDIGO features: 100%|██████████| 50000/50000 [09:02<00:00, 92.24it/s] \n",
      "Mapping orthologous genes: 100%|██████████| 2/2 [00:23<00:00, 11.77s/it]\n"
     ]
    },
    {
     "name": "stdout",
     "output_type": "stream",
     "text": [
      "\tProcessing batch 4...\n"
     ]
    },
    {
     "name": "stderr",
     "output_type": "stream",
     "text": [
      "c:\\Users\\carol\\AppData\\Local\\Programs\\Python\\Python310\\lib\\site-packages\\indigopy\\core.py:351: UserWarning: Not all feature names are unique. Enforcing unique entries for output\n",
      "  warn('Not all feature names are unique. Enforcing unique entries for output')\n",
      "c:\\Users\\carol\\AppData\\Local\\Programs\\Python\\Python310\\lib\\site-packages\\indigopy\\core.py:406: UserWarning: Drug profile information missing for 24940 interactions\n",
      "  warn('Drug profile information missing for {} interactions'.format(len(interactions) - len(ixn_list)))\n",
      "Defining INDIGO features: 100%|██████████| 50000/50000 [06:58<00:00, 119.41it/s]\n",
      "Mapping orthologous genes: 100%|██████████| 3/3 [00:39<00:00, 13.24s/it]\n",
      "c:\\Users\\carol\\AppData\\Local\\Programs\\Python\\Python310\\lib\\site-packages\\indigopy\\core.py:406: UserWarning: Drug profile information missing for 7310 interactions\n",
      "  warn('Drug profile information missing for {} interactions'.format(len(interactions) - len(ixn_list)))\n",
      "Defining INDIGO features: 100%|██████████| 50000/50000 [08:43<00:00, 95.44it/s] \n",
      "Mapping orthologous genes: 100%|██████████| 3/3 [00:33<00:00, 11.10s/it]\n"
     ]
    },
    {
     "name": "stdout",
     "output_type": "stream",
     "text": [
      "\tProcessing batch 5...\n"
     ]
    },
    {
     "name": "stderr",
     "output_type": "stream",
     "text": [
      "c:\\Users\\carol\\AppData\\Local\\Programs\\Python\\Python310\\lib\\site-packages\\indigopy\\core.py:351: UserWarning: Not all feature names are unique. Enforcing unique entries for output\n",
      "  warn('Not all feature names are unique. Enforcing unique entries for output')\n",
      "c:\\Users\\carol\\AppData\\Local\\Programs\\Python\\Python310\\lib\\site-packages\\indigopy\\core.py:406: UserWarning: Drug profile information missing for 24859 interactions\n",
      "  warn('Drug profile information missing for {} interactions'.format(len(interactions) - len(ixn_list)))\n",
      "Defining INDIGO features: 100%|██████████| 50000/50000 [06:55<00:00, 120.32it/s]\n",
      "Mapping orthologous genes: 100%|██████████| 2/2 [00:22<00:00, 11.40s/it]\n",
      "c:\\Users\\carol\\AppData\\Local\\Programs\\Python\\Python310\\lib\\site-packages\\indigopy\\core.py:406: UserWarning: Drug profile information missing for 3655 interactions\n",
      "  warn('Drug profile information missing for {} interactions'.format(len(interactions) - len(ixn_list)))\n",
      "Defining INDIGO features: 100%|██████████| 50000/50000 [09:10<00:00, 90.86it/s] \n",
      "Mapping orthologous genes: 100%|██████████| 2/2 [00:24<00:00, 12.06s/it]\n"
     ]
    },
    {
     "name": "stdout",
     "output_type": "stream",
     "text": [
      "\tProcessing batch 6...\n"
     ]
    },
    {
     "name": "stderr",
     "output_type": "stream",
     "text": [
      "c:\\Users\\carol\\AppData\\Local\\Programs\\Python\\Python310\\lib\\site-packages\\indigopy\\core.py:351: UserWarning: Not all feature names are unique. Enforcing unique entries for output\n",
      "  warn('Not all feature names are unique. Enforcing unique entries for output')\n",
      "c:\\Users\\carol\\AppData\\Local\\Programs\\Python\\Python310\\lib\\site-packages\\indigopy\\core.py:406: UserWarning: Drug profile information missing for 25070 interactions\n",
      "  warn('Drug profile information missing for {} interactions'.format(len(interactions) - len(ixn_list)))\n",
      "Defining INDIGO features: 100%|██████████| 50000/50000 [06:53<00:00, 120.89it/s]\n",
      "Mapping orthologous genes: 100%|██████████| 3/3 [00:30<00:00, 10.04s/it]\n",
      "c:\\Users\\carol\\AppData\\Local\\Programs\\Python\\Python310\\lib\\site-packages\\indigopy\\core.py:406: UserWarning: Drug profile information missing for 7310 interactions\n",
      "  warn('Drug profile information missing for {} interactions'.format(len(interactions) - len(ixn_list)))\n",
      "Defining INDIGO features: 100%|██████████| 50000/50000 [08:56<00:00, 93.19it/s] \n",
      "Mapping orthologous genes: 100%|██████████| 3/3 [00:27<00:00,  9.29s/it]\n"
     ]
    },
    {
     "name": "stdout",
     "output_type": "stream",
     "text": [
      "\tProcessing batch 7...\n"
     ]
    },
    {
     "name": "stderr",
     "output_type": "stream",
     "text": [
      "c:\\Users\\carol\\AppData\\Local\\Programs\\Python\\Python310\\lib\\site-packages\\indigopy\\core.py:351: UserWarning: Not all feature names are unique. Enforcing unique entries for output\n",
      "  warn('Not all feature names are unique. Enforcing unique entries for output')\n",
      "c:\\Users\\carol\\AppData\\Local\\Programs\\Python\\Python310\\lib\\site-packages\\indigopy\\core.py:406: UserWarning: Drug profile information missing for 24990 interactions\n",
      "  warn('Drug profile information missing for {} interactions'.format(len(interactions) - len(ixn_list)))\n",
      "Defining INDIGO features: 100%|██████████| 50000/50000 [07:04<00:00, 117.79it/s]\n",
      "Mapping orthologous genes: 100%|██████████| 2/2 [00:27<00:00, 13.84s/it]\n",
      "c:\\Users\\carol\\AppData\\Local\\Programs\\Python\\Python310\\lib\\site-packages\\indigopy\\core.py:406: UserWarning: Drug profile information missing for 3655 interactions\n",
      "  warn('Drug profile information missing for {} interactions'.format(len(interactions) - len(ixn_list)))\n",
      "Defining INDIGO features: 100%|██████████| 50000/50000 [09:15<00:00, 90.05it/s] \n",
      "Mapping orthologous genes: 100%|██████████| 2/2 [00:30<00:00, 15.21s/it]\n"
     ]
    },
    {
     "name": "stdout",
     "output_type": "stream",
     "text": [
      "\tProcessing batch 8...\n"
     ]
    },
    {
     "name": "stderr",
     "output_type": "stream",
     "text": [
      "c:\\Users\\carol\\AppData\\Local\\Programs\\Python\\Python310\\lib\\site-packages\\indigopy\\core.py:351: UserWarning: Not all feature names are unique. Enforcing unique entries for output\n",
      "  warn('Not all feature names are unique. Enforcing unique entries for output')\n",
      "c:\\Users\\carol\\AppData\\Local\\Programs\\Python\\Python310\\lib\\site-packages\\indigopy\\core.py:406: UserWarning: Drug profile information missing for 24857 interactions\n",
      "  warn('Drug profile information missing for {} interactions'.format(len(interactions) - len(ixn_list)))\n",
      "Defining INDIGO features: 100%|██████████| 50000/50000 [07:06<00:00, 117.23it/s]\n",
      "Mapping orthologous genes: 100%|██████████| 3/3 [00:27<00:00,  9.24s/it]\n",
      "c:\\Users\\carol\\AppData\\Local\\Programs\\Python\\Python310\\lib\\site-packages\\indigopy\\core.py:406: UserWarning: Drug profile information missing for 7310 interactions\n",
      "  warn('Drug profile information missing for {} interactions'.format(len(interactions) - len(ixn_list)))\n",
      "Defining INDIGO features: 100%|██████████| 50000/50000 [08:49<00:00, 94.50it/s] \n",
      "Mapping orthologous genes: 100%|██████████| 3/3 [00:41<00:00, 13.89s/it]\n"
     ]
    },
    {
     "name": "stdout",
     "output_type": "stream",
     "text": [
      "\tProcessing batch 9...\n"
     ]
    },
    {
     "name": "stderr",
     "output_type": "stream",
     "text": [
      "c:\\Users\\carol\\AppData\\Local\\Programs\\Python\\Python310\\lib\\site-packages\\indigopy\\core.py:351: UserWarning: Not all feature names are unique. Enforcing unique entries for output\n",
      "  warn('Not all feature names are unique. Enforcing unique entries for output')\n",
      "c:\\Users\\carol\\AppData\\Local\\Programs\\Python\\Python310\\lib\\site-packages\\indigopy\\core.py:406: UserWarning: Drug profile information missing for 25021 interactions\n",
      "  warn('Drug profile information missing for {} interactions'.format(len(interactions) - len(ixn_list)))\n",
      "Defining INDIGO features: 100%|██████████| 50000/50000 [07:04<00:00, 117.70it/s]\n",
      "Mapping orthologous genes: 100%|██████████| 2/2 [00:24<00:00, 12.47s/it]\n",
      "c:\\Users\\carol\\AppData\\Local\\Programs\\Python\\Python310\\lib\\site-packages\\indigopy\\core.py:406: UserWarning: Drug profile information missing for 3655 interactions\n",
      "  warn('Drug profile information missing for {} interactions'.format(len(interactions) - len(ixn_list)))\n",
      "Defining INDIGO features: 100%|██████████| 50000/50000 [09:13<00:00, 90.36it/s] \n",
      "Mapping orthologous genes: 100%|██████████| 2/2 [00:28<00:00, 14.33s/it]\n"
     ]
    },
    {
     "name": "stdout",
     "output_type": "stream",
     "text": [
      "\tProcessing batch 10...\n"
     ]
    },
    {
     "name": "stderr",
     "output_type": "stream",
     "text": [
      "c:\\Users\\carol\\AppData\\Local\\Programs\\Python\\Python310\\lib\\site-packages\\indigopy\\core.py:351: UserWarning: Not all feature names are unique. Enforcing unique entries for output\n",
      "  warn('Not all feature names are unique. Enforcing unique entries for output')\n",
      "c:\\Users\\carol\\AppData\\Local\\Programs\\Python\\Python310\\lib\\site-packages\\indigopy\\core.py:406: UserWarning: Drug profile information missing for 25007 interactions\n",
      "  warn('Drug profile information missing for {} interactions'.format(len(interactions) - len(ixn_list)))\n",
      "Defining INDIGO features: 100%|██████████| 50000/50000 [07:11<00:00, 115.97it/s]\n",
      "Mapping orthologous genes: 100%|██████████| 3/3 [00:34<00:00, 11.40s/it]\n",
      "c:\\Users\\carol\\AppData\\Local\\Programs\\Python\\Python310\\lib\\site-packages\\indigopy\\core.py:406: UserWarning: Drug profile information missing for 7310 interactions\n",
      "  warn('Drug profile information missing for {} interactions'.format(len(interactions) - len(ixn_list)))\n",
      "Defining INDIGO features: 100%|██████████| 50000/50000 [08:53<00:00, 93.63it/s] \n",
      "Mapping orthologous genes: 100%|██████████| 3/3 [00:25<00:00,  8.59s/it]\n"
     ]
    },
    {
     "name": "stdout",
     "output_type": "stream",
     "text": [
      "\tProcessing batch 11...\n"
     ]
    },
    {
     "name": "stderr",
     "output_type": "stream",
     "text": [
      "c:\\Users\\carol\\AppData\\Local\\Programs\\Python\\Python310\\lib\\site-packages\\indigopy\\core.py:351: UserWarning: Not all feature names are unique. Enforcing unique entries for output\n",
      "  warn('Not all feature names are unique. Enforcing unique entries for output')\n",
      "c:\\Users\\carol\\AppData\\Local\\Programs\\Python\\Python310\\lib\\site-packages\\indigopy\\core.py:406: UserWarning: Drug profile information missing for 24888 interactions\n",
      "  warn('Drug profile information missing for {} interactions'.format(len(interactions) - len(ixn_list)))\n",
      "Defining INDIGO features: 100%|██████████| 50000/50000 [08:04<00:00, 103.29it/s]\n",
      "Mapping orthologous genes: 100%|██████████| 2/2 [00:27<00:00, 13.96s/it]\n",
      "c:\\Users\\carol\\AppData\\Local\\Programs\\Python\\Python310\\lib\\site-packages\\indigopy\\core.py:406: UserWarning: Drug profile information missing for 3655 interactions\n",
      "  warn('Drug profile information missing for {} interactions'.format(len(interactions) - len(ixn_list)))\n",
      "Defining INDIGO features: 100%|██████████| 50000/50000 [09:16<00:00, 89.84it/s] \n",
      "Mapping orthologous genes: 100%|██████████| 2/2 [00:24<00:00, 12.11s/it]\n"
     ]
    },
    {
     "name": "stdout",
     "output_type": "stream",
     "text": [
      "\tProcessing batch 12...\n"
     ]
    },
    {
     "name": "stderr",
     "output_type": "stream",
     "text": [
      "c:\\Users\\carol\\AppData\\Local\\Programs\\Python\\Python310\\lib\\site-packages\\indigopy\\core.py:351: UserWarning: Not all feature names are unique. Enforcing unique entries for output\n",
      "  warn('Not all feature names are unique. Enforcing unique entries for output')\n",
      "c:\\Users\\carol\\AppData\\Local\\Programs\\Python\\Python310\\lib\\site-packages\\indigopy\\core.py:406: UserWarning: Drug profile information missing for 21151 interactions\n",
      "  warn('Drug profile information missing for {} interactions'.format(len(interactions) - len(ixn_list)))\n",
      "Defining INDIGO features: 100%|██████████| 42110/42110 [05:09<00:00, 136.15it/s]\n",
      "Mapping orthologous genes: 100%|██████████| 2/2 [00:28<00:00, 14.15s/it]\n",
      "c:\\Users\\carol\\AppData\\Local\\Programs\\Python\\Python310\\lib\\site-packages\\indigopy\\core.py:406: UserWarning: Drug profile information missing for 7310 interactions\n",
      "  warn('Drug profile information missing for {} interactions'.format(len(interactions) - len(ixn_list)))\n",
      "Defining INDIGO features: 100%|██████████| 42110/42110 [06:43<00:00, 104.31it/s]\n",
      "Mapping orthologous genes: 100%|██████████| 2/2 [00:21<00:00, 10.65s/it]\n"
     ]
    },
    {
     "name": "stdout",
     "output_type": "stream",
     "text": [
      "All predictions determined.\n"
     ]
    }
   ],
   "source": [
    "# Define phenotype data + feature names + orthology maps\n",
    "p1, p2  = ecoli['omics'].iloc[:, 1:].to_dict('list'), mtb['omics'].iloc[:, 1:].to_dict('list')\n",
    "g1, g2  = ecoli['omics']['Gene'].tolist(), mtb['omics']['Gene'].tolist()\n",
    "ecoli['map'].update(emap)\n",
    "mtb['map'].update(mmap)\n",
    "\n",
    "# Generate predictions (separate into batches)\n",
    "print('Request size: {} predictions. Partitioning into {} batches...'.format(n1 * n2, math.ceil(n1 * n2 / n)))\n",
    "start, stop, i, pred = 0, n, 1, []\n",
    "while start < n1 * n2: \n",
    "    # Print batch number\n",
    "    print('\\tProcessing batch {}...'.format(i))\n",
    "    # Define partitions\n",
    "    if stop > n1 * n2: \n",
    "        i_list, s_list = ixn_list[start:], str_list[start:]\n",
    "    else: \n",
    "        i_list, s_list = ixn_list[start:stop], str_list[start:stop]\n",
    "    # Determine features\n",
    "    f1      = featurize(i_list, p1, feature_names=g1, key=ecoli['key'], strains=s_list, orthology_map=ecoli['map'])\n",
    "    f2      = featurize(i_list, p2, feature_names=g2, key=mtb['key'], strains=s_list, orthology_map=mtb['map'])\n",
    "    d1, d2  = f1['feature_df'].to_numpy().transpose(), f2['feature_df'].to_numpy().transpose()\n",
    "    # Re-format input data\n",
    "    x1      = np.zeros([d2.shape[0], d1.shape[1]], dtype=d2.dtype)\n",
    "    x1[np.array(f1['idx'])] = d1[np.array(f1['idx'])]\n",
    "    idx1    = [f in master['df'].index for f in list(f1['feature_df'].index)]\n",
    "    idx2    = [f in master['df'].index for f in list(f2['feature_df'].index)]\n",
    "    s1, s2  = sparse.csr_matrix(x1[:, np.array(idx1)]), sparse.csr_matrix(d2[:, np.array(idx2)])\n",
    "    X       = sparse.hstack((s1, s2))\n",
    "    # Determine predictions\n",
    "    pred.append(out['model']['TACTIC'].predict(X))\n",
    "    # Re-define batch indices\n",
    "    start   = stop\n",
    "    stop    = start + n\n",
    "    i       += 1\n",
    "print('All predictions determined.')"
   ]
  },
  {
   "cell_type": "markdown",
   "metadata": {},
   "source": [
    "### 4.3 Define output"
   ]
  },
  {
   "cell_type": "code",
   "execution_count": 38,
   "metadata": {},
   "outputs": [],
   "source": [
    "# Convert prediction data into dataframe\n",
    "y       = np.concatenate(pred, axis=0)\n",
    "ixns    = [', '.join(ixn) for ixn in ixn_list]\n",
    "df      = pd.DataFrame({'Strain': str_list, 'Interaction': ixns, 'Prediction': y})\n",
    "df      = df.pivot_table(index='Interaction', columns='Strain', sort=False)['Prediction']\n",
    "\n",
    "# Extract LB predictions\n",
    "df_LB   = df.iloc[:len(interactions), :]\n",
    "df_LB.index = [i + ', LB' for i in list(df_LB.index)]\n",
    "out['landscape']['lb'] = df_LB\n",
    "\n",
    "# Extract media-specific predictions\n",
    "for m in media: \n",
    "    if m=='GLUCOSAMINE': \n",
    "        idx = [s.endswith(', GLUCOSAMINE') for s in list(df.index)]\n",
    "    else: \n",
    "        idx = [s.endswith(m) for s in list(df.index)]\n",
    "    out['landscape'][m.lower()] = df.loc[idx, ]"
   ]
  },
  {
   "cell_type": "markdown",
   "metadata": {},
   "source": [
    "### 4.4 Predict AMP-CLA-MEC (runtime: ~2 minutes)"
   ]
  },
  {
   "cell_type": "code",
   "execution_count": 39,
   "metadata": {},
   "outputs": [
    {
     "name": "stderr",
     "output_type": "stream",
     "text": [
      "c:\\Users\\carol\\AppData\\Local\\Programs\\Python\\Python310\\lib\\site-packages\\indigopy\\core.py:337: UserWarning: Interaction entries do not match profile names, but key provided\n",
      "  warn('Interaction entries do not match profile names, but key provided')\n",
      "c:\\Users\\carol\\AppData\\Local\\Programs\\Python\\Python310\\lib\\site-packages\\indigopy\\core.py:351: UserWarning: Not all feature names are unique. Enforcing unique entries for output\n",
      "  warn('Not all feature names are unique. Enforcing unique entries for output')\n",
      "Defining INDIGO features: 100%|██████████| 18/18 [00:00<00:00, 178.54it/s]\n",
      "Mapping orthologous genes: 100%|██████████| 18/18 [01:01<00:00,  3.39s/it]\n",
      "Defining INDIGO features: 100%|██████████| 18/18 [00:00<00:00, 224.69it/s]\n",
      "Mapping orthologous genes: 100%|██████████| 18/18 [00:41<00:00,  2.33s/it]\n"
     ]
    }
   ],
   "source": [
    "# Define input data\n",
    "ixns    = len(strains)*[['AMP', 'CLA', 'MEC']]\n",
    "f1      = featurize(ixns, p1, feature_names=g1, key=ecoli['key'], strains=strains, orthology_map=ecoli['map'])\n",
    "f2      = featurize(ixns, p2, feature_names=g2, key=mtb['key'], strains=strains, orthology_map=mtb['map'])\n",
    "d1, d2  = f1['feature_df'].to_numpy().transpose(), f2['feature_df'].to_numpy().transpose()\n",
    "\n",
    "# Re-format input data\n",
    "x1      = np.zeros([d2.shape[0], d1.shape[1]], dtype=d2.dtype)\n",
    "x1[np.array(f1['idx'])] = d1[np.array(f1['idx'])]\n",
    "idx1    = [f in master['df'].index for f in list(f1['feature_df'].index)]\n",
    "idx2    = [f in master['df'].index for f in list(f2['feature_df'].index)]\n",
    "s1, s2  = sparse.csr_matrix(x1[:, np.array(idx1)]), sparse.csr_matrix(d2[:, np.array(idx2)])\n",
    "X       = sparse.hstack((s1, s2))\n",
    "\n",
    "# Determine predictions\n",
    "y       = out['model']['TACTIC'].predict(X)\n",
    "\n",
    "# Define output\n",
    "ixns    = [', '.join(ixn) for ixn in ixns]\n",
    "df      = pd.DataFrame({'Strain': strains, 'Interaction': ixns, 'Prediction': y})\n",
    "df      = df.pivot_table(index='Interaction', columns='Strain', sort=False)['Prediction']\n",
    "out['AMP-CLA-MEC'] = df"
   ]
  },
  {
   "cell_type": "code",
   "execution_count": 40,
   "metadata": {},
   "outputs": [],
   "source": [
    "# Checkpoint\n",
    "with open('./TACTIC_data.pkl', 'wb') as f: \n",
    "    pickle.dump([ecoli, mtb, master, out], f)"
   ]
  },
  {
   "cell_type": "markdown",
   "metadata": {},
   "source": [
    "## 5. Endophthalmitis application\n",
    "\n",
    "TACTIC application to predict narrow-spectrum synergies against causative agents of endophthalmitis. In collaboration with Dr. Karthik Srinivasan (U-M Kelogg Eye Center)."
   ]
  },
  {
   "cell_type": "markdown",
   "metadata": {},
   "source": [
    "### 5.1 Load and process data"
   ]
  },
  {
   "cell_type": "code",
   "execution_count": 41,
   "metadata": {},
   "outputs": [],
   "source": [
    "# Load datasets\n",
    "data = pd.read_excel('./data/Endophthalmitis/endophthalmitis_data.xlsx', sheet_name=None, engine='openpyxl')\n",
    "orth = {'ecoli': pd.read_csv('./data/Endophthalmitis/Eco_orthologs.txt', sep='\\t'), \n",
    "        'mtb': pd.read_csv('./data/Endophthalmitis/Mtb_orthologs.txt', sep='\\t')}\n",
    "\n",
    "# Define strain-specific orthology data\n",
    "df          = data['strains'].dropna()\n",
    "strains     = sorted(list(df['Organism'] + ' ' + df['Strain']))\n",
    "jx          = [1, 3] + [x for x in range(4, orth['ecoli'].shape[1], 3)]\n",
    "df1, df2    = orth['ecoli'].iloc[:, jx], orth['mtb'].iloc[:, jx]\n",
    "df1.columns = [s.split(' - ')[0] if 'comparison' in s else s for s in df1.columns]\n",
    "df2.columns = [s.split(' - ')[0] if 'comparison' in s else s for s in df2.columns]\n",
    "df2.iloc[:, 0] = [s.replace('RVBD_', 'Rv') for s in list(df2.iloc[:, 0])]\n",
    "emap, mmap  = dict(), dict()\n",
    "for strain in strains: \n",
    "    emap[strain] = list(compress(df1.iloc[:, 0], df1[strain] != '0'))\n",
    "    mmap[strain] = list(compress(df2.iloc[:, 0], df2[strain] != '0'))\n",
    "\n",
    "# Define drugs and key\n",
    "ekey = list(zip(data['key']['Code'], data['key']['ecoli_label']))\n",
    "ekey = [key for key in ekey if not pd.isna(key[1])]\n",
    "mkey = list(zip(data['key']['Code'], data['key']['mtb_label']))\n",
    "drugs = sorted([k[0] for k in mkey])\n",
    "abx   = data['drugs'].loc[data['drugs']['Route_1']==1, 'Code'].tolist()\n",
    "\n",
    "# Define model\n",
    "model = out['model']['TACTIC']"
   ]
  },
  {
   "cell_type": "markdown",
   "metadata": {},
   "source": [
    "### 5.2 Determine predictions (runtime: ~20 minutes)"
   ]
  },
  {
   "cell_type": "code",
   "execution_count": 42,
   "metadata": {},
   "outputs": [
    {
     "name": "stdout",
     "output_type": "stream",
     "text": [
      "Request size: 31536 predictions. Partitioning into 1 batches...\n",
      "\tProcessing batch 1...\n"
     ]
    },
    {
     "name": "stderr",
     "output_type": "stream",
     "text": [
      "c:\\Users\\carol\\AppData\\Local\\Programs\\Python\\Python310\\lib\\site-packages\\indigopy\\core.py:337: UserWarning: Interaction entries do not match profile names, but key provided\n",
      "  warn('Interaction entries do not match profile names, but key provided')\n",
      "c:\\Users\\carol\\AppData\\Local\\Programs\\Python\\Python310\\lib\\site-packages\\indigopy\\core.py:351: UserWarning: Not all feature names are unique. Enforcing unique entries for output\n",
      "  warn('Not all feature names are unique. Enforcing unique entries for output')\n",
      "c:\\Users\\carol\\AppData\\Local\\Programs\\Python\\Python310\\lib\\site-packages\\indigopy\\core.py:406: UserWarning: Drug profile information missing for 6576 interactions\n",
      "  warn('Drug profile information missing for {} interactions'.format(len(interactions) - len(ixn_list)))\n",
      "Defining INDIGO features: 100%|██████████| 31536/31536 [06:12<00:00, 84.63it/s] \n",
      "Mapping orthologous genes: 100%|██████████| 12/12 [02:06<00:00, 10.51s/it]\n",
      "Defining INDIGO features: 100%|██████████| 31536/31536 [09:54<00:00, 53.03it/s]\n",
      "Mapping orthologous genes: 100%|██████████| 12/12 [00:43<00:00,  3.61s/it]\n"
     ]
    },
    {
     "name": "stdout",
     "output_type": "stream",
     "text": [
      "All predictions determined.\n"
     ]
    }
   ],
   "source": [
    "# Determine all possible 2-way interactions\n",
    "interactions    = []\n",
    "for k in range(2, 3):\n",
    "    interactions.extend(combinations(drugs, k))\n",
    "interactions    = [list(i) for i in interactions]\n",
    "n1, n2, n       = len(interactions), len(strains), 50000\n",
    "ixn_list        = interactions * n2\n",
    "str_list        = sorted(strains * n1)\n",
    "\n",
    "# Determine phenotype data\n",
    "p1, p2  = ecoli['omics'].iloc[:, 1:].to_dict('list'), mtb['omics'].iloc[:, 1:].to_dict('list')\n",
    "g1, g2  = ecoli['omics']['Gene'].tolist(), mtb['omics']['Gene'].tolist()\n",
    "\n",
    "# Generate predictions\n",
    "print('Request size: {} predictions. Partitioning into {} batches...'.format(n1 * n2, math.ceil(n1 * n2 / n)))\n",
    "start, stop, i, pred = 0, n, 1, []\n",
    "while start < n1 * n2: \n",
    "    # Print batch number\n",
    "    print('\\tProcessing batch {}...'.format(i))\n",
    "    # Define partitioned input\n",
    "    if stop > n1 * n2: \n",
    "        ixns = ixn_list[start:]\n",
    "        strs = str_list[start:]\n",
    "    else: \n",
    "        ixns = ixn_list[start:stop]\n",
    "        strs = str_list[start:stop]\n",
    "    # Determine features\n",
    "    f1      = featurize(ixns, p1, feature_names=g1, key=ekey, strains=strs, orthology_map=emap)\n",
    "    f2      = featurize(ixns, p2, feature_names=g2, key=mkey, strains=strs, orthology_map=mmap)\n",
    "    d1, d2  = f1['feature_df'].to_numpy().transpose(), f2['feature_df'].to_numpy().transpose()\n",
    "    # Define TACTIC input\n",
    "    idx1    = [f in master['df'].index for f in list(f1['feature_df'].index)]\n",
    "    idx2    = [f in master['df'].index for f in list(f2['feature_df'].index)]\n",
    "    s1, s2  = sparse.csr_matrix(d1[:, np.array(idx1)]), sparse.csr_matrix(d2[:, np.array(idx2)])\n",
    "    X       = sparse.hstack((s1, s2))\n",
    "    # Determine predictions\n",
    "    pred.append(model.predict(X))\n",
    "    # Re-define batch indices\n",
    "    start   = stop\n",
    "    stop    = start + n\n",
    "    i       += 1\n",
    "print('All predictions determined.')"
   ]
  },
  {
   "cell_type": "markdown",
   "metadata": {},
   "source": [
    "### 5.3 Define output"
   ]
  },
  {
   "cell_type": "code",
   "execution_count": 43,
   "metadata": {},
   "outputs": [],
   "source": [
    "# Re-format + save data\n",
    "y       = np.concatenate(pred, axis=0)\n",
    "ixns    = [', '.join(ixn) for ixn in ixn_list]\n",
    "df      = pd.DataFrame({'Strain': str_list, 'Interaction': ixns, 'Prediction': y})\n",
    "out['endophthalmitis'] = df.pivot(index='Interaction', columns='Strain')['Prediction']"
   ]
  },
  {
   "cell_type": "code",
   "execution_count": 44,
   "metadata": {},
   "outputs": [],
   "source": [
    "# Checkpoint\n",
    "with open('./TACTIC_data.pkl', 'wb') as f: \n",
    "    pickle.dump([ecoli, mtb, master, out], f)"
   ]
  },
  {
   "cell_type": "markdown",
   "metadata": {},
   "source": [
    "## 6. Gram-positive benchmarking\n",
    "\n",
    "Additional analysis using data from [Cacace et al., 2023](https://pubmed.ncbi.nlm.nih.gov/37770760/)."
   ]
  },
  {
   "cell_type": "markdown",
   "metadata": {},
   "source": [
    "\n",
    "### 6.1 Load and process data (runtime: ~3 minutes)"
   ]
  },
  {
   "cell_type": "code",
   "execution_count": 22,
   "metadata": {},
   "outputs": [
    {
     "name": "stderr",
     "output_type": "stream",
     "text": [
      "c:\\Users\\carol\\AppData\\Local\\Programs\\Python\\Python310\\lib\\site-packages\\indigopy\\core.py:351: UserWarning: Not all feature names are unique. Enforcing unique entries for output\n",
      "  warn('Not all feature names are unique. Enforcing unique entries for output')\n",
      "c:\\Users\\carol\\AppData\\Local\\Programs\\Python\\Python310\\lib\\site-packages\\indigopy\\core.py:406: UserWarning: Drug profile information missing for 510 interactions\n",
      "  warn('Drug profile information missing for {} interactions'.format(len(interactions) - len(ixn_list)))\n",
      "Defining INDIGO features: 100%|██████████| 4570/4570 [00:18<00:00, 246.91it/s]\n",
      "Mapping orthologous genes: 100%|██████████| 15/15 [01:13<00:00,  4.93s/it]\n",
      "Defining INDIGO features: 100%|██████████| 4570/4570 [00:20<00:00, 218.94it/s]\n",
      "Mapping orthologous genes: 100%|██████████| 15/15 [00:34<00:00,  2.30s/it]\n"
     ]
    }
   ],
   "source": [
    "# Load Gram-positive data\n",
    "pos_data = pd.read_excel('./data/ixn_data.xlsx', sheet_name='Cacace_2023', engine='openpyxl')\n",
    "pos_orthology = {\n",
    "    'ecoli': pd.read_csv('./data/OrtholugeDB/Ec-MG1655_Gpos.txt', sep='\\t'), \n",
    "    'mtb': pd.read_csv('./data/OrtholugeDB/Mtb-H37Rv_Gpos.txt', sep='\\t')\n",
    "}\n",
    "df_master = pd.concat([master['data'].copy(), pos_data.copy()])\n",
    "\n",
    "# Obtain orthology maps\n",
    "strains         = sorted(set(pos_data['Strain']))\n",
    "jx              = [1, 3] + [x for x in range(4, pos_orthology['ecoli'].shape[1], 3)]\n",
    "df1, df2        = pos_orthology['ecoli'].iloc[:, jx], pos_orthology['mtb'].iloc[:, jx]\n",
    "df1.columns     = [s.split(' - ')[0] if 'comparison' in s else s for s in df1.columns]\n",
    "df2.columns     = [s.split(' - ')[0] if 'comparison' in s else s for s in df2.columns]\n",
    "df2.iloc[:, 0]  = [s.replace('RVBD_', 'Rv') for s in df2.iloc[:, 0]]\n",
    "for strain in strains: \n",
    "    # G+ strains\n",
    "    if 'subtilis' in strain: \n",
    "        s1 = [s for s in df1.columns if 'subtilis' in s][0]\n",
    "        s2 = [s for s in df2.columns if 'subtilis' in s][0]\n",
    "    elif 'pneumoniae' in strain: \n",
    "        s1 = [s for s in df1.columns if 'pneumoniae' in s][0]\n",
    "        s2 = [s for s in df2.columns if 'pneumoniae' in s][0]\n",
    "    elif 'Newman' in strain: \n",
    "        s1 = [s for s in df1.columns if 'Newman' in s][0]\n",
    "        s2 = [s for s in df2.columns if 'Newman' in s][0]\n",
    "    elif strain.endswith('29213'): \n",
    "        s1 = [s for s in df1.columns if 'ECT-R 2' in s][0]\n",
    "        s2 = [s for s in df2.columns if 'ECT-R 2' in s][0]\n",
    "    ecoli['map'][strain] = list(compress(df1.iloc[:, 0], df1[s1] != '0'))\n",
    "    mtb['map'][strain] = list(compress(df2.iloc[:, 0], df2[s2] != '0'))\n",
    "\n",
    "# Determine ML features (based on E. coli chemogenomic-based data)\n",
    "profiles        = ecoli['omics'].iloc[:, 1:].to_dict('list')\n",
    "feature_names   = ecoli['omics']['Gene'].tolist()\n",
    "interactions    = [list(s.split(', ')) for s in df_master['Interaction']]\n",
    "ecoli_feat      = featurize(interactions, profiles, feature_names=feature_names, key=ecoli['key'], \n",
    "                            strains=df_master['Strain'].tolist(), orthology_map=ecoli['map'])\n",
    "ecoli_X         = sparse.csr_matrix(ecoli_feat['feature_df'].to_numpy().transpose())\n",
    "\n",
    "# Determine ML features (based on M. tb transcriptomic-based data)\n",
    "profiles        = mtb['omics'].iloc[:, 1:].to_dict('list')\n",
    "feature_names   = mtb['omics']['Gene'].tolist()\n",
    "interactions    = [list(s.split(', ')) for s in df_master['Interaction']]\n",
    "mtb_feat        = featurize(interactions, profiles, feature_names=feature_names, key=mtb['key'], \n",
    "                            strains=df_master['Strain'].tolist(), orthology_map=mtb['map'])\n",
    "mtb_X           = sparse.csr_matrix(mtb_feat['feature_df'].to_numpy().transpose())\n",
    "\n",
    "# Determine ML features for TACTIC\n",
    "ecoli_genes     = [g for g in ecoli['omics']['Gene'].tolist() if g not in ecoli['map']['M. tuberculosis H37Rv']]\n",
    "idx             = [any(i.split('_')[0].endswith(gene) for gene in ecoli_genes) for i in list(ecoli['df'].index)]\n",
    "feature_df      = pd.concat([ecoli_feat['feature_df'].loc[idx], mtb_feat['feature_df']])\n",
    "master_X        = sparse.csr_matrix(feature_df.to_numpy().transpose())\n",
    "\n",
    "# Sanity check\n",
    "assert (ecoli_X.shape[0]==mtb_X.shape[0]) and (ecoli_X.shape[0]==master_X.shape[0])"
   ]
  },
  {
   "cell_type": "markdown",
   "metadata": {},
   "source": [
    "### 6.2 Model building and evaluation"
   ]
  },
  {
   "cell_type": "code",
   "execution_count": 24,
   "metadata": {},
   "outputs": [
    {
     "name": "stderr",
     "output_type": "stream",
     "text": [
      "Evaluating TACTIC vs. INDIGO (including Cacace data)::   7%|▋         | 1/15 [00:00<00:01,  8.31it/s]"
     ]
    },
    {
     "name": "stdout",
     "output_type": "stream",
     "text": [
      "\tStrain: A. baumannii ATCC 17978, N = 45 (1.1%)\n",
      "\t\tHoldout results (INDIGO):\tR = 0.33, p = 0.028\n",
      "\t\tHoldout results (INDIGO-Mtb):\tR = -0.18, p = 0.233\n",
      "\t\tHoldout results (TACTIC):\tR = 0.98, p = 3.7e-30\n",
      "\tStrain: B. subtilis 168, N = 533 (12.8%)\n"
     ]
    },
    {
     "name": "stderr",
     "output_type": "stream",
     "text": [
      "Evaluating TACTIC vs. INDIGO (including Cacace data)::  20%|██        | 3/15 [00:00<00:01,  7.37it/s]"
     ]
    },
    {
     "name": "stdout",
     "output_type": "stream",
     "text": [
      "\t\tHoldout results (INDIGO):\tR = 0.09, p = 0.0395\n",
      "\t\tHoldout results (INDIGO-Mtb):\tR = -0.01, p = 0.833\n",
      "\t\tHoldout results (TACTIC):\tR = 0.15, p = 0.000502\n",
      "\tStrain: E. coli BW25113, N = 473 (11.3%)\n",
      "\t\tHoldout results (INDIGO):\tR = 0.23, p = 2.35e-07\n",
      "\t\tHoldout results (INDIGO-Mtb):\tR = -0.1, p = 0.0307\n",
      "\t\tHoldout results (TACTIC):\tR = 0.83, p = 2.75e-123\n",
      "\tStrain: E. coli MC4100, N = 98 (2.4%)\n",
      "\t\tHoldout results (INDIGO):\tR = 0.3, p = 0.00238\n",
      "\t\tHoldout results (INDIGO-Mtb):\tR = -0.1, p = 0.331\n",
      "\t\tHoldout results (TACTIC):\tR = 0.72, p = 5.48e-17\n",
      "\tStrain: E. coli MG1655, N = 452 (10.8%)\n"
     ]
    },
    {
     "name": "stderr",
     "output_type": "stream",
     "text": [
      "Evaluating TACTIC vs. INDIGO (including Cacace data)::  47%|████▋     | 7/15 [00:00<00:00,  9.86it/s]"
     ]
    },
    {
     "name": "stdout",
     "output_type": "stream",
     "text": [
      "\t\tHoldout results (INDIGO):\tR = 0.26, p = 3.79e-08\n",
      "\t\tHoldout results (INDIGO-Mtb):\tR = -0.13, p = 0.00455\n",
      "\t\tHoldout results (TACTIC):\tR = 0.86, p = 2.41e-132\n",
      "\tStrain: E. coli iAi1, N = 316 (7.6%)\n",
      "\t\tHoldout results (INDIGO):\tR = 0.16, p = 0.00379\n",
      "\t\tHoldout results (INDIGO-Mtb):\tR = 0.06, p = 0.293\n",
      "\t\tHoldout results (TACTIC):\tR = 0.95, p = 1.57e-155\n",
      "\tStrain: M. tuberculosis ATCC 35801, N = 154 (3.7%)\n",
      "\t\tHoldout results (INDIGO):\tR = -0.04, p = 0.662\n",
      "\t\tHoldout results (INDIGO-Mtb):\tR = 0.32, p = 4.32e-05\n",
      "\t\tHoldout results (TACTIC):\tR = 0.86, p = 5.86e-46\n",
      "\tStrain: M. tuberculosis H37Rv, N = 159 (3.8%)\n"
     ]
    },
    {
     "name": "stderr",
     "output_type": "stream",
     "text": [
      "Evaluating TACTIC vs. INDIGO (including Cacace data)::  73%|███████▎  | 11/15 [00:00<00:00, 13.62it/s]"
     ]
    },
    {
     "name": "stdout",
     "output_type": "stream",
     "text": [
      "\t\tHoldout results (INDIGO):\tR = 0.29, p = 0.000176\n",
      "\t\tHoldout results (INDIGO-Mtb):\tR = 0.29, p = 0.000176\n",
      "\t\tHoldout results (TACTIC):\tR = 0.83, p = 2.23e-41\n",
      "\tStrain: P. aeruginosa PA14, N = 163 (3.9%)\n",
      "\t\tHoldout results (INDIGO):\tR = 0.02, p = 0.81\n",
      "\t\tHoldout results (INDIGO-Mtb):\tR = 0.09, p = 0.244\n",
      "\t\tHoldout results (TACTIC):\tR = 0.94, p = 4.18e-75\n",
      "\tStrain: P. aeruginosa PAO1, N = 163 (3.9%)\n",
      "\t\tHoldout results (INDIGO):\tR = -0.15, p = 0.0541\n",
      "\t\tHoldout results (INDIGO-Mtb):\tR = -0.06, p = 0.467\n",
      "\t\tHoldout results (TACTIC):\tR = 0.95, p = 3.14e-81\n",
      "\tStrain: S. aureus ATCC 29213, N = 45 (1.1%)\n",
      "\t\tHoldout results (INDIGO):\tR = 0.26, p = 0.0886\n",
      "\t\tHoldout results (INDIGO-Mtb):\tR = 0.22, p = 0.141\n",
      "\t\tHoldout results (TACTIC):\tR = 0.98, p = 7.39e-30\n",
      "\tStrain: S. aureus Newman, N = 534 (12.8%)\n"
     ]
    },
    {
     "name": "stderr",
     "output_type": "stream",
     "text": [
      "Evaluating TACTIC vs. INDIGO (including Cacace data)::  87%|████████▋ | 13/15 [00:01<00:00, 11.25it/s]"
     ]
    },
    {
     "name": "stdout",
     "output_type": "stream",
     "text": [
      "\t\tHoldout results (INDIGO):\tR = 0.06, p = 0.171\n",
      "\t\tHoldout results (INDIGO-Mtb):\tR = 0.0, p = 0.956\n",
      "\t\tHoldout results (TACTIC):\tR = 0.04, p = 0.367\n",
      "\tStrain: S. pneumoniae D39V, N = 538 (12.9%)\n",
      "\t\tHoldout results (INDIGO):\tR = -0.02, p = 0.672\n",
      "\t\tHoldout results (INDIGO-Mtb):\tR = 0.1, p = 0.0273\n",
      "\t\tHoldout results (TACTIC):\tR = 0.11, p = 0.0108\n",
      "\tStrain: S. typhimurium 14028s, N = 248 (5.9%)\n",
      "\t\tHoldout results (INDIGO):\tR = 0.08, p = 0.19\n",
      "\t\tHoldout results (INDIGO-Mtb):\tR = -0.07, p = 0.304\n",
      "\t\tHoldout results (TACTIC):\tR = 0.94, p = 1.27e-118\n",
      "\tStrain: S. typhimurium LT2, N = 248 (5.9%)\n"
     ]
    },
    {
     "name": "stderr",
     "output_type": "stream",
     "text": [
      "Evaluating TACTIC vs. INDIGO (including Cacace data):: 100%|██████████| 15/15 [00:01<00:00, 10.54it/s]"
     ]
    },
    {
     "name": "stdout",
     "output_type": "stream",
     "text": [
      "\t\tHoldout results (INDIGO):\tR = 0.12, p = 0.0689\n",
      "\t\tHoldout results (INDIGO-Mtb):\tR = 0.03, p = 0.626\n",
      "\t\tHoldout results (TACTIC):\tR = 0.97, p = 1.65e-148\n"
     ]
    },
    {
     "name": "stderr",
     "output_type": "stream",
     "text": [
      "\n"
     ]
    }
   ],
   "source": [
    "# Define I/O variables\n",
    "idx     = df_master['Set'] == 'TACTIC'\n",
    "data    = df_master.loc[idx]\n",
    "strains = sorted(list(set(data['Strain'])))\n",
    "X1, X2, X = ecoli_X[idx], mtb_X[idx], master_X[idx]\n",
    "out['Cacace'] = dict()\n",
    "\n",
    "# Define INDIGO data subsets\n",
    "idx1    = df_master['Set'] == 'ecoli'\n",
    "data1   = df_master.loc[idx1]\n",
    "idx2    = df_master['Set'] == 'mtb'\n",
    "data2   = df_master.loc[idx2]\n",
    "\n",
    "# Determine predictions for INDIGO (E. coli) model\n",
    "out['Cacace']['EC'] = out['model']['EC'].predict(X1)\n",
    "\n",
    "# Determine predictions for INDIGO-Mtb (M. tb) model\n",
    "out['Cacace']['TB'] = out['model']['TB'].predict(X2)\n",
    "\n",
    "# Evaluate TACTIC vs. INDIGO\n",
    "N = data.shape[0]\n",
    "for strain in tqdm(strains, desc='Evaluating TACTIC vs. INDIGO (including Cacace data):'): \n",
    "    # Test set (strain of interest)\n",
    "    test_ix         = [s == strain for s in data['Strain'].tolist()]\n",
    "    test_ixns       = list(compress(data['Interaction'], test_ix))\n",
    "    test_scores     = list(compress(data['Score'], test_ix))\n",
    "    Xte, n          = X[test_ix], test_ix.count(True)\n",
    "    print('\\tStrain: {}, N = {} ({}%)'.format(strain, n, round(100*n/N, 1)))\n",
    "    # Train set for TACTIC model\n",
    "    train_ix        = [not i for i in test_ix]\n",
    "    if strain==data1['Strain'].unique()[0]: \n",
    "        extra_X     = master_X[idx2]\n",
    "        extra_s     = df_master['Score'][idx2].tolist()\n",
    "    elif strain==data2['Strain'].unique()[0]: \n",
    "        extra_X     = master_X[idx1]\n",
    "        extra_s     = df_master['Score'][idx1].tolist()\n",
    "    else: \n",
    "        extra_X     = master_X[idx1 | idx2]\n",
    "        extra_s     = df_master['Score'][idx1 | idx2].tolist()\n",
    "    Xtr             = sparse.vstack((extra_X, X[train_ix]))\n",
    "    train_scores    = extra_s + list(compress(data['Score'], train_ix))\n",
    "    # Instantiate results\n",
    "    df = pd.DataFrame({'Ixn': test_ixns, 'Score': test_scores, \n",
    "                    'EC': list(compress(out['Cacace']['EC'], test_ix)), \n",
    "                    'TB': list(compress(out['Cacace']['TB'], test_ix))})\n",
    "    df['TACTIC'] = out['model']['TACTIC'].predict(Xte)\n",
    "    \"\"\"\n",
    "    # Run TACTIC\n",
    "    model           = RandomForestRegressor()\n",
    "    model.fit(Xtr, train_scores)\n",
    "    df['TACTIC'] = model.predict(Xte)\n",
    "    \"\"\"\n",
    "    # Print results\n",
    "    r, p = spearmanr(df['Score'], df['EC'])\n",
    "    print('\\t\\tHoldout results (INDIGO):\\tR = {}, p = {:.3g}'.format(round(r, 2), p))\n",
    "    r, p = spearmanr(df['Score'], df['TB'])\n",
    "    print('\\t\\tHoldout results (INDIGO-Mtb):\\tR = {}, p = {:.3g}'.format(round(r, 2), p))\n",
    "    r, p = spearmanr(df['Score'], df['TACTIC'])\n",
    "    print('\\t\\tHoldout results (TACTIC):\\tR = {}, p = {:.3g}'.format(round(r, 2), p))\n",
    "    # Store results\n",
    "    out['Cacace'][strain] = df"
   ]
  },
  {
   "cell_type": "code",
   "execution_count": null,
   "metadata": {},
   "outputs": [],
   "source": [
    "# Checkpoint\n",
    "with open('./TACTIC_data.pkl', 'wb') as f: \n",
    "    pickle.dump([ecoli, mtb, master, out], f)"
   ]
  },
  {
   "cell_type": "markdown",
   "metadata": {},
   "source": [
    "## 7. M. abscessus validation\n",
    "\n",
    "Additional analysis using data from [Van et al., 2023](https://pubmed.ncbi.nlm.nih.gov/37278639/)."
   ]
  },
  {
   "cell_type": "markdown",
   "metadata": {},
   "source": [
    "### 7.1 Digitize Figure 2A\n",
    "\n",
    "Infer log2FIC50 values via image processing."
   ]
  },
  {
   "cell_type": "code",
   "execution_count": null,
   "metadata": {},
   "outputs": [
    {
     "data": {
      "text/plain": [
       "Text(0.5, 1.0, 'Reduced heatmap (18 x 18)')"
      ]
     },
     "execution_count": 3,
     "metadata": {},
     "output_type": "execute_result"
    },
    {
     "data": {
      "image/png": "[encoded data removed]",
      "text/plain": [
       "<Figure size 600x300 with 2 Axes>"
      ]
     },
     "metadata": {},
     "output_type": "display_data"
    }
   ],
   "source": [
    "# Define output variable\n",
    "out['Van'] = dict()\n",
    "\n",
    "# Define drug dictionary\n",
    "abx = {'AMK': 'AMK', \n",
    "       'TEL': '', \n",
    "       'AZM': 'AZI', \n",
    "       'CLR': 'CLA', \n",
    "       'LZD': 'LIN', \n",
    "       'MXF': 'MOX', \n",
    "       'LXF': 'LEV', \n",
    "       'SPR': '', \n",
    "       'NFT': 'NIT', \n",
    "       'RIF': 'RIF', \n",
    "       'RFB': '', \n",
    "       'AMX': 'AMX', \n",
    "       'VAN': 'VAN', \n",
    "       'EMB': '', \n",
    "       'CER': 'CER', \n",
    "       'FOX': 'CEF', \n",
    "       'BDQ': '', \n",
    "       'TZ': 'THZ'\n",
    "        }\n",
    "out['Van']['abx'] = abx\n",
    "\n",
    "# Read image (Figure 2A)\n",
    "image = cv2.imread('./data/Van_2023_fig2a_hm.jpg', 1)\n",
    "\n",
    "# Convert to RGB\n",
    "image = cv2.cvtColor(image, cv2.COLOR_BGR2RGB)\n",
    "out['Van']['original'] = image\n",
    "\n",
    "# Get individual cells\n",
    "n = len(abx.keys())\n",
    "hm = np.empty((n, n, 3), dtype=int)\n",
    "rm = np.empty((n, n), dtype=int)\n",
    "gm = np.empty((n, n), dtype=int)\n",
    "bm = np.empty((n, n), dtype=int)\n",
    "zm = np.empty((n, n), dtype=float)\n",
    "for i in range(0, n, 1): \n",
    "      for j in range(0, n, 1): \n",
    "        # Define image index\n",
    "        x, y = 52*i+26, 52*j+26\n",
    "        # Extract RGB value\n",
    "        hm[i, j] = image[x, y]\n",
    "        # Calculate score\n",
    "        if all(hm[i, j]==[169, 169, 169]): \n",
    "            zm[i, j] = np.nan\n",
    "        else: \n",
    "            zm[i, j] = ((hm[i, j, 0] - 255) - (hm[i, j, -1] - 255)) / hm[i, j, 1]\n",
    "out['Van']['reduced'] = hm\n",
    "out['Van']['scores'] = zm\n",
    "\n",
    "# Sanity check #1\n",
    "fig, ax = plt.subplots(nrows=1, ncols=2, figsize=(6, 3), constrained_layout=True)\n",
    "ax[0].imshow(image)\n",
    "ax[0].set_title('Original heatmap ({} x {})'.format(image.shape[0], image.shape[1]))\n",
    "ax[1].imshow(hm)\n",
    "ax[1].set_title('Reduced heatmap ({} x {})'.format(hm.shape[0], hm.shape[1]))"
   ]
  },
  {
   "cell_type": "markdown",
   "metadata": {},
   "source": [
    "### 7.2 Inspect and process inferred scores"
   ]
  },
  {
   "cell_type": "code",
   "execution_count": 4,
   "metadata": {},
   "outputs": [
    {
     "name": "stdout",
     "output_type": "stream",
     "text": [
      "Absolute min: -1.9787234042553192\n",
      "Absolute max: 10.555555555555555\n"
     ]
    },
    {
     "data": {
      "text/plain": [
       "Text(0.5, 1.0, 'Inferred score heatmap')"
      ]
     },
     "execution_count": 4,
     "metadata": {},
     "output_type": "execute_result"
    },
    {
     "data": {
      "image/png": "[encoded data removed]",
      "text/plain": [
       "<Figure size 600x200 with 2 Axes>"
      ]
     },
     "metadata": {},
     "output_type": "display_data"
    },
    {
     "data": {
      "image/png": "[encoded data removed]",
      "text/plain": [
       "<Figure size 900x300 with 4 Axes>"
      ]
     },
     "metadata": {},
     "output_type": "display_data"
    }
   ],
   "source": [
    "# Inspect min and max values\n",
    "print('Absolute min: {}'.format(np.nanmin(zm)))\n",
    "print('Absolute max: {}'.format(np.nanmax(zm)))\n",
    "\n",
    "# Visualize score distribution (as-is)\n",
    "fig, ax = plt.subplots(nrows=1, ncols=2, figsize=(6, 2), constrained_layout=True)\n",
    "scores = out['Van']['scores'].reshape(-1)\n",
    "sns.histplot(scores, ax=ax[0])\n",
    "ax[0].set(xlabel='Score', ylabel='Count', title='Image-derived scores (as-is)')\n",
    "ax[0].text(7, 43, 'N = {}'.format(sum(~np.isnan(scores))))\n",
    "\n",
    "# Cap upper end\n",
    "zm[zm > 2] = 2\n",
    "\n",
    "# Visualize score distribution (capped)\n",
    "scores = zm.reshape(-1)\n",
    "sns.histplot(scores, ax=ax[1])\n",
    "ax[1].set(xlabel='Score', ylabel='Count', title='Image-derived scores (capped)')\n",
    "ax[1].text(1, 55, 'N = {}'.format(sum(~np.isnan(scores))))\n",
    "\n",
    "# Sanity check #2\n",
    "fig, ax = plt.subplots(nrows=1, ncols=3, figsize=(9, 3), constrained_layout=True)\n",
    "ax[0].imshow(image)\n",
    "ax[0].set_title('Original heatmap ({} x {})'.format(image.shape[0], image.shape[1]))\n",
    "ax[1].imshow(hm)\n",
    "ax[1].set_title('Reduced heatmap ({} x {})'.format(hm.shape[0], hm.shape[1]))\n",
    "nan_mask = np.isnan(zm)\n",
    "cmap = sns.color_palette('vlag', as_cmap=True).copy()\n",
    "cmap.set_bad('gray')\n",
    "sns.heatmap(zm, center=0, cmap=cmap, mask=nan_mask, ax=ax[2])\n",
    "ax[2].set_title('Inferred score heatmap')"
   ]
  },
  {
   "cell_type": "markdown",
   "metadata": {},
   "source": [
    "### 7.3 Extract TACTIC predictions\n",
    "\n",
    "Extract predictions for M. abscessus that match drugs evaluated in Van et al. study."
   ]
  },
  {
   "cell_type": "code",
   "execution_count": null,
   "metadata": {},
   "outputs": [],
   "source": [
    "# Define combinations\n",
    "drugs = sorted(list(set(list(abx.values()))))[1:]\n",
    "combos = []\n",
    "for k in range(2, 3):\n",
    "    combos.extend(combinations(drugs, k))\n",
    "combos = [', '.join(i) for i in combos]\n",
    "\n",
    "# Extract predictions\n",
    "df = pd.DataFrame(index=combos)\n",
    "df['Prediction'] = [out['landscape']['lb'].loc[i + ', LB', 'M. abscessus'] for i in combos]"
   ]
  },
  {
   "cell_type": "markdown",
   "metadata": {},
   "source": [
    "### 7.4 Determine additional predictions"
   ]
  },
  {
   "cell_type": "code",
   "execution_count": 6,
   "metadata": {},
   "outputs": [
    {
     "name": "stderr",
     "output_type": "stream",
     "text": [
      "c:\\Users\\carol\\AppData\\Local\\Programs\\Python\\Python310\\lib\\site-packages\\indigopy\\core.py:337: UserWarning: Interaction entries do not match profile names, but key provided\n",
      "  warn('Interaction entries do not match profile names, but key provided')\n",
      "c:\\Users\\carol\\AppData\\Local\\Programs\\Python\\Python310\\lib\\site-packages\\indigopy\\core.py:351: UserWarning: Not all feature names are unique. Enforcing unique entries for output\n",
      "  warn('Not all feature names are unique. Enforcing unique entries for output')\n",
      "c:\\Users\\carol\\AppData\\Local\\Programs\\Python\\Python310\\lib\\site-packages\\indigopy\\core.py:406: UserWarning: Drug profile information missing for 42 interactions\n",
      "  warn('Drug profile information missing for {} interactions'.format(len(interactions) - len(ixn_list)))\n",
      "Defining INDIGO features: 100%|██████████| 42/42 [00:00<?, ?it/s]\n",
      "Mapping orthologous genes: 100%|██████████| 1/1 [00:01<00:00,  1.85s/it]\n",
      "Defining INDIGO features: 100%|██████████| 42/42 [00:00<00:00, 256.28it/s]\n",
      "Mapping orthologous genes: 100%|██████████| 1/1 [00:03<00:00,  3.46s/it]\n"
     ]
    }
   ],
   "source": [
    "# Update drug dictionary to include BDQ, EMBx, and RIFP\n",
    "new_drugs = ['BDQ', 'EMBx', 'RIFP']\n",
    "abx.update({'BDQ': new_drugs[0], 'EMB': new_drugs[1], 'RFB': new_drugs[2]})\n",
    "\n",
    "# Define interaction list\n",
    "new_combos = []\n",
    "for k in range(2, 3):\n",
    "    new_combos.extend(combinations(sorted(drugs + new_drugs), k))\n",
    "new_combos = [', '.join(i) for i in new_combos]\n",
    "interactions = [i for i in new_combos if i not in combos]\n",
    "ixn_list = [list(i.split(', ')) for i in interactions]\n",
    "str_list = ['M. abscessus'] * len(ixn_list)\n",
    "\n",
    "# Define new predictions\n",
    "p1, p2  = ecoli['omics'].iloc[:, 1:].to_dict('list'), mtb['omics'].iloc[:, 1:].to_dict('list')\n",
    "g1, g2  = ecoli['omics']['Gene'].tolist(), mtb['omics']['Gene'].tolist()\n",
    "f1      = featurize(ixn_list, p1, feature_names=g1, key=ecoli['key'], strains=str_list, orthology_map=ecoli['map'])\n",
    "f2      = featurize(ixn_list, p2, feature_names=g2, key=mtb['key'], strains=str_list, orthology_map=mtb['map'])\n",
    "d1, d2  = f1['feature_df'].to_numpy().transpose(), f2['feature_df'].to_numpy().transpose()\n",
    "x1      = np.zeros([d2.shape[0], d1.shape[1]], dtype=d2.dtype)\n",
    "x1[np.array(f1['idx'])] = d1[np.array(f1['idx'])]\n",
    "idx1    = [f in master['df'].index for f in list(f1['feature_df'].index)]\n",
    "idx2    = [f in master['df'].index for f in list(f2['feature_df'].index)]\n",
    "s1, s2  = sparse.csr_matrix(x1[:, np.array(idx1)]), sparse.csr_matrix(d2[:, np.array(idx2)])\n",
    "X       = sparse.hstack((s1, s2))\n",
    "mab_pred = out['model']['TACTIC'].predict(X)\n",
    "\n",
    "# Add new predictions to prediction dataframe\n",
    "df2 = pd.DataFrame({'Prediction': mab_pred}, index=interactions)\n",
    "df = pd.concat([df, df2])"
   ]
  },
  {
   "cell_type": "markdown",
   "metadata": {},
   "source": [
    "### 7.5 Re-create heatmap based on predictions\n",
    "\n",
    "Mimic Figure 2A based on TACTIC predictions."
   ]
  },
  {
   "cell_type": "code",
   "execution_count": 7,
   "metadata": {},
   "outputs": [
    {
     "data": {
      "text/plain": [
       "Text(0.5, 1.0, 'TACTIC prediction heatmap')"
      ]
     },
     "execution_count": 7,
     "metadata": {},
     "output_type": "execute_result"
    },
    {
     "data": {
      "image/png": "[encoded data removed]",
      "text/plain": [
       "<Figure size 700x300 with 4 Axes>"
      ]
     },
     "metadata": {},
     "output_type": "display_data"
    }
   ],
   "source": [
    "# Re-create heatmaps\n",
    "phm = pd.DataFrame(np.nan, index=abx.keys(), columns=abx.keys())\n",
    "\n",
    "for i in df.index: \n",
    "    # Extract individual drugs\n",
    "    d1, d2 = i.split(', ')\n",
    "    # Map to Figure 2A drug names\n",
    "    row = list(abx.keys())[list(abx.values()).index(d1)]\n",
    "    col = list(abx.keys())[list(abx.values()).index(d2)]\n",
    "    # Populate dataframe\n",
    "    phm.loc[row, col] = df.loc[i, 'Prediction']\n",
    "    phm.loc[col, row] = df.loc[i, 'Prediction']\n",
    "out['Van']['predictions'] = phm\n",
    "\n",
    "# Visualize score vs. prediction heatmaps\n",
    "fig, ax = plt.subplots(nrows=1, ncols=2, figsize=(7, 3), width_ratios=(1, 1), constrained_layout=True)\n",
    "cmap = sns.color_palette('vlag', as_cmap=True).copy()\n",
    "cmap.set_bad('gray')\n",
    "nan_mask = np.isnan(zm)\n",
    "sns.heatmap(zm, center=0, cmap=cmap, mask=nan_mask, ax=ax[0])\n",
    "ax[0].set_title('Inferred score heatmap')\n",
    "nan_mask = phm.isna()\n",
    "sns.heatmap(phm, center=0, cmap=cmap, mask=nan_mask, ax=ax[1])\n",
    "ax[1].set_title('TACTIC prediction heatmap')"
   ]
  },
  {
   "cell_type": "markdown",
   "metadata": {},
   "source": [
    "### 7.6 Define dataframe of unique interactions\n",
    "\n",
    "Create a dataframe including score + prediction for all unique interactions."
   ]
  },
  {
   "cell_type": "code",
   "execution_count": null,
   "metadata": {},
   "outputs": [
    {
     "name": "stdout",
     "output_type": "stream",
     "text": [
      "Total number of unique interactions: 97\n"
     ]
    },
    {
     "data": {
      "text/html": [
       "<div>\n",
       "<style scoped>\n",
       "    .dataframe tbody tr th:only-of-type {\n",
       "        vertical-align: middle;\n",
       "    }\n",
       "\n",
       "    .dataframe tbody tr th {\n",
       "        vertical-align: top;\n",
       "    }\n",
       "\n",
       "    .dataframe thead th {\n",
       "        text-align: right;\n",
       "    }\n",
       "</style>\n",
       "<table border=\"1\" class=\"dataframe\">\n",
       "  <thead>\n",
       "    <tr style=\"text-align: right;\">\n",
       "      <th></th>\n",
       "      <th>Interaction</th>\n",
       "      <th>Score</th>\n",
       "      <th>Prediction</th>\n",
       "      <th>Class</th>\n",
       "    </tr>\n",
       "  </thead>\n",
       "  <tbody>\n",
       "    <tr>\n",
       "      <th>1</th>\n",
       "      <td>AMK, AZM</td>\n",
       "      <td>1.442105</td>\n",
       "      <td>0.098155</td>\n",
       "      <td>Antagonism</td>\n",
       "    </tr>\n",
       "    <tr>\n",
       "      <th>3</th>\n",
       "      <td>AMK, LZD</td>\n",
       "      <td>0.740506</td>\n",
       "      <td>-0.094703</td>\n",
       "      <td>Antagonism</td>\n",
       "    </tr>\n",
       "    <tr>\n",
       "      <th>4</th>\n",
       "      <td>AMK, MXF</td>\n",
       "      <td>0.195556</td>\n",
       "      <td>0.404542</td>\n",
       "      <td>Antagonism</td>\n",
       "    </tr>\n",
       "    <tr>\n",
       "      <th>5</th>\n",
       "      <td>AMK, LXF</td>\n",
       "      <td>0.045643</td>\n",
       "      <td>0.427073</td>\n",
       "      <td>Antagonism</td>\n",
       "    </tr>\n",
       "    <tr>\n",
       "      <th>7</th>\n",
       "      <td>AMK, NFT</td>\n",
       "      <td>-0.121212</td>\n",
       "      <td>0.107741</td>\n",
       "      <td>Synergy</td>\n",
       "    </tr>\n",
       "  </tbody>\n",
       "</table>\n",
       "</div>"
      ],
      "text/plain": [
       "  Interaction     Score  Prediction       Class\n",
       "1    AMK, AZM  1.442105    0.098155  Antagonism\n",
       "3    AMK, LZD  0.740506   -0.094703  Antagonism\n",
       "4    AMK, MXF  0.195556    0.404542  Antagonism\n",
       "5    AMK, LXF  0.045643    0.427073  Antagonism\n",
       "7    AMK, NFT -0.121212    0.107741     Synergy"
      ]
     },
     "metadata": {},
     "output_type": "display_data"
    }
   ],
   "source": [
    "# Convert score matrix to dataframe\n",
    "zdf = pd.DataFrame(zm, index=abx.keys(), columns=abx.keys())\n",
    "\n",
    "# Extract unique values\n",
    "idx = np.triu_indices(zdf.shape[0], k=1)\n",
    "ixns = zdf.index.values[idx[0]] + ', ' + zdf.columns.values[idx[1]]\n",
    "scores, pred = zdf.values[idx], phm.values[idx]\n",
    "\n",
    "# Define dataframe\n",
    "pdf = pd.DataFrame({'Interaction': ixns, 'Score': scores, 'Prediction': pred})\n",
    "pdf['Class'] = classify(pdf['Score'].tolist(), thresholds=(0, 0))\n",
    "pdf.dropna(inplace=True)\n",
    "print('Total number of unique interactions: {}'.format(pdf.shape[0]))\n",
    "display(pdf.head())\n",
    "\n",
    "# Save in out variable\n",
    "out['Van']['table'] = pdf"
   ]
  },
  {
   "cell_type": "code",
   "execution_count": 20,
   "metadata": {},
   "outputs": [],
   "source": [
    "# Checkpoint\n",
    "with open('./TACTIC_data.pkl', 'wb') as f: \n",
    "    pickle.dump([ecoli, mtb, master, out], f)"
   ]
  }
 ],
 "metadata": {
  "kernelspec": {
   "display_name": "Python 3",
   "language": "python",
   "name": "python3"
  },
  "language_info": {
   "codemirror_mode": {
    "name": "ipython",
    "version": 3
   },
   "file_extension": ".py",
   "mimetype": "text/x-python",
   "name": "python",
   "nbconvert_exporter": "python",
   "pygments_lexer": "ipython3",
   "version": "3.10.8"
  },
  "orig_nbformat": 4
 },
 "nbformat": 4,
 "nbformat_minor": 2
}
